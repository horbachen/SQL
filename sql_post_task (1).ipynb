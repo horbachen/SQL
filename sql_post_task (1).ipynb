{
 "cells": [
  {
   "cell_type": "code",
   "execution_count": 1,
   "id": "342a196e-768b-44ed-baa2-4a46834db4ff",
   "metadata": {
    "tags": []
   },
   "outputs": [],
   "source": [
    "import sqlite3\n",
    "import pandas  as pd\n",
    "import matplotlib.pyplot as plt\n",
    "import numpy   as np\n",
    "import seaborn as sns \n",
    "\n",
    "plt.style.use('dark_background')"
   ]
  },
  {
   "cell_type": "markdown",
   "id": "5a497c6a-d6ee-4b86-aab0-63f30808aafe",
   "metadata": {},
   "source": [
    "index_data - current information about objects\n",
    "\n",
    "parcel_aggr - aggregated information about shipments (for April 2024)"
   ]
  },
  {
   "cell_type": "markdown",
   "id": "ffd071ae-48ca-4825-9f13-a32efb4fbf7f",
   "metadata": {},
   "source": [
    "The first table\n",
    "\n",
    "parcel_id - Unique identifier of the shipment\n",
    "\n",
    "accept_date - Date of accepting the shipment\n",
    "\n",
    "Index - Branch index where the shipment was accepted\n",
    "\n",
    "mass - Mass of the shipment in grams\n",
    "\n",
    "price - Paid tariff for shipping the shipment in kopecks\n",
    "\n",
    "client_type - Sender type (Individual/Legal entity)"
   ]
  },
  {
   "cell_type": "markdown",
   "id": "68b81a7c-04c5-4257-93f4-299ed6a1c2fa",
   "metadata": {},
   "source": [
    "The second table\n",
    "\n",
    "index_data - Branch index\n",
    "\n",
    "area - Region where the branch is located\n",
    "\n",
    "population - Population of the locality where the branch is located, in thousands of people\n",
    "\n",
    "\n",
    "\n",
    "\n",
    "\n",
    "\n"
   ]
  },
  {
   "cell_type": "code",
   "execution_count": 2,
   "id": "ff460835-dd28-4db8-9eac-a6f44c2fc832",
   "metadata": {
    "tags": []
   },
   "outputs": [
    {
     "data": {
      "text/plain": [
       "'3.41.2'"
      ]
     },
     "execution_count": 2,
     "metadata": {},
     "output_type": "execute_result"
    }
   ],
   "source": [
    "sqlite3.sqlite_version"
   ]
  },
  {
   "cell_type": "markdown",
   "id": "ed78bc23-9e1f-4d3f-a87c-88e1b34891fb",
   "metadata": {
    "tags": []
   },
   "source": [
    "# data upload"
   ]
  },
  {
   "cell_type": "markdown",
   "id": "ac9833cd-5dc6-4c3b-a539-54e43a925e93",
   "metadata": {},
   "source": [
    "If we generate unique IDs for something, can we do it using 'range()'"
   ]
  },
  {
   "cell_type": "code",
   "execution_count": 3,
   "id": "87351339-6f45-473b-8e42-9d0478d333b0",
   "metadata": {
    "tags": []
   },
   "outputs": [],
   "source": [
    "parcel_aggr = pd.DataFrame({'parcel_id':range(100)})"
   ]
  },
  {
   "cell_type": "markdown",
   "id": "2243f867-3db6-4e07-96c6-ced5b7404630",
   "metadata": {
    "tags": []
   },
   "source": [
    "We'll generate our dates for April using the `date_range()` function in the same way."
   ]
  },
  {
   "cell_type": "code",
   "execution_count": 4,
   "id": "79cc423e-0bc0-4454-a9c6-a412ac821d63",
   "metadata": {
    "tags": []
   },
   "outputs": [],
   "source": [
    "parcel_aggr['accept_date'] = pd.Series(pd.date_range(start='2024-04-01', end='2024-04-30')).sample(100,replace=True,random_state=42).values"
   ]
  },
  {
   "cell_type": "code",
   "execution_count": 5,
   "id": "9888cb29-6103-4c26-835d-3503d0fab36f",
   "metadata": {
    "tags": []
   },
   "outputs": [
    {
     "data": {
      "text/html": [
       "<div>\n",
       "<style scoped>\n",
       "    .dataframe tbody tr th:only-of-type {\n",
       "        vertical-align: middle;\n",
       "    }\n",
       "\n",
       "    .dataframe tbody tr th {\n",
       "        vertical-align: top;\n",
       "    }\n",
       "\n",
       "    .dataframe thead th {\n",
       "        text-align: right;\n",
       "    }\n",
       "</style>\n",
       "<table border=\"1\" class=\"dataframe\">\n",
       "  <thead>\n",
       "    <tr style=\"text-align: right;\">\n",
       "      <th></th>\n",
       "      <th>parcel_id</th>\n",
       "      <th>accept_date</th>\n",
       "    </tr>\n",
       "  </thead>\n",
       "  <tbody>\n",
       "    <tr>\n",
       "      <th>0</th>\n",
       "      <td>0</td>\n",
       "      <td>2024-04-07</td>\n",
       "    </tr>\n",
       "    <tr>\n",
       "      <th>1</th>\n",
       "      <td>1</td>\n",
       "      <td>2024-04-20</td>\n",
       "    </tr>\n",
       "    <tr>\n",
       "      <th>2</th>\n",
       "      <td>2</td>\n",
       "      <td>2024-04-29</td>\n",
       "    </tr>\n",
       "    <tr>\n",
       "      <th>3</th>\n",
       "      <td>3</td>\n",
       "      <td>2024-04-15</td>\n",
       "    </tr>\n",
       "    <tr>\n",
       "      <th>4</th>\n",
       "      <td>4</td>\n",
       "      <td>2024-04-11</td>\n",
       "    </tr>\n",
       "    <tr>\n",
       "      <th>...</th>\n",
       "      <td>...</td>\n",
       "      <td>...</td>\n",
       "    </tr>\n",
       "    <tr>\n",
       "      <th>95</th>\n",
       "      <td>95</td>\n",
       "      <td>2024-04-29</td>\n",
       "    </tr>\n",
       "    <tr>\n",
       "      <th>96</th>\n",
       "      <td>96</td>\n",
       "      <td>2024-04-18</td>\n",
       "    </tr>\n",
       "    <tr>\n",
       "      <th>97</th>\n",
       "      <td>97</td>\n",
       "      <td>2024-04-26</td>\n",
       "    </tr>\n",
       "    <tr>\n",
       "      <th>98</th>\n",
       "      <td>98</td>\n",
       "      <td>2024-04-12</td>\n",
       "    </tr>\n",
       "    <tr>\n",
       "      <th>99</th>\n",
       "      <td>99</td>\n",
       "      <td>2024-04-02</td>\n",
       "    </tr>\n",
       "  </tbody>\n",
       "</table>\n",
       "<p>100 rows × 2 columns</p>\n",
       "</div>"
      ],
      "text/plain": [
       "    parcel_id accept_date\n",
       "0           0  2024-04-07\n",
       "1           1  2024-04-20\n",
       "2           2  2024-04-29\n",
       "3           3  2024-04-15\n",
       "4           4  2024-04-11\n",
       "..        ...         ...\n",
       "95         95  2024-04-29\n",
       "96         96  2024-04-18\n",
       "97         97  2024-04-26\n",
       "98         98  2024-04-12\n",
       "99         99  2024-04-02\n",
       "\n",
       "[100 rows x 2 columns]"
      ]
     },
     "execution_count": 5,
     "metadata": {},
     "output_type": "execute_result"
    }
   ],
   "source": [
    "parcel_aggr"
   ]
  },
  {
   "cell_type": "markdown",
   "id": "e521c8ac-aaf7-481b-a662-6ee426403a48",
   "metadata": {},
   "source": [
    "The branch index where the shipment was accepted. Since there are no unique users anymore, let's do it through sampling."
   ]
  },
  {
   "cell_type": "code",
   "execution_count": 6,
   "id": "7c2cb31b-7aad-452d-a4fc-3fb4040fa89d",
   "metadata": {
    "tags": []
   },
   "outputs": [],
   "source": [
    "random_state=42\n",
    "parcel_aggr['index_id'] = pd.Series(range(10)).sample(100,replace=True).values"
   ]
  },
  {
   "cell_type": "code",
   "execution_count": 19,
   "id": "b147dde6-7ed8-41f8-bb33-b161c9481ab4",
   "metadata": {
    "tags": []
   },
   "outputs": [],
   "source": [
    "#parcel_aggr.drop(columns = ('index'),inplace=True)"
   ]
  },
  {
   "cell_type": "markdown",
   "id": "d3b58186-2515-49c8-8b99-ac7938b3a919",
   "metadata": {},
   "source": [
    "Next, we'll simply generate the weight of the parcel using a normal distribution. First, we'll use the mean for the sample, then the standard deviation."
   ]
  },
  {
   "cell_type": "markdown",
   "id": "50f2b24c-eeae-4363-a26b-f141c0c7b9b4",
   "metadata": {},
   "source": [
    "Additionally, we'll 'fix' the random seed in NumPy."
   ]
  },
  {
   "cell_type": "markdown",
   "id": "9cbef8a6-6f18-4cbb-9c8d-e2640bf07d7c",
   "metadata": {},
   "source": [
    "The number 42 is associated with the cult science fiction work by Douglas Adams called \"The Hitchhiker's Guide to the Galaxy.\" In this book, the number 42 represents the answer to the question about life, the universe, and everything. Here's a quote from the book:\n",
    "\n",
    "\"The answer to the ultimate question of life, the universe, and everything is 42.\"\n",
    "\n",
    "This answer, although seemingly meaningless, has become the subject of numerous jokes and interpretations in culture, including the fields of programming and computer science. Therefore, in programming, the number 42 is sometimes used as a humorous reference value, especially in cases where an arbitrary value is needed to illustrate code or an example.\n",
    "\n",
    "\n",
    "\n",
    "\n",
    "\n",
    "\n"
   ]
  },
  {
   "cell_type": "markdown",
   "id": "18594427-1a6b-4d38-954f-db6fef30f6fd",
   "metadata": {},
   "source": [
    "Let's round our mass to the nearest whole number."
   ]
  },
  {
   "cell_type": "code",
   "execution_count": 20,
   "id": "4d4d2995-2d22-4d0d-9626-6a818013b518",
   "metadata": {
    "tags": []
   },
   "outputs": [],
   "source": [
    "np.random.seed(42)\n",
    "parcel_aggr['mass'] = np.round(np.abs(pd.Series(np.random.normal(10000,20000,size=100)).values)).astype('int')"
   ]
  },
  {
   "cell_type": "code",
   "execution_count": 21,
   "id": "007a737e-9183-4ded-8e84-b9b7094756d8",
   "metadata": {
    "tags": []
   },
   "outputs": [
    {
     "data": {
      "text/html": [
       "<div>\n",
       "<style scoped>\n",
       "    .dataframe tbody tr th:only-of-type {\n",
       "        vertical-align: middle;\n",
       "    }\n",
       "\n",
       "    .dataframe tbody tr th {\n",
       "        vertical-align: top;\n",
       "    }\n",
       "\n",
       "    .dataframe thead th {\n",
       "        text-align: right;\n",
       "    }\n",
       "</style>\n",
       "<table border=\"1\" class=\"dataframe\">\n",
       "  <thead>\n",
       "    <tr style=\"text-align: right;\">\n",
       "      <th></th>\n",
       "      <th>parcel_id</th>\n",
       "      <th>accept_date</th>\n",
       "      <th>index_id</th>\n",
       "      <th>mass</th>\n",
       "    </tr>\n",
       "  </thead>\n",
       "  <tbody>\n",
       "    <tr>\n",
       "      <th>0</th>\n",
       "      <td>0</td>\n",
       "      <td>2024-04-07</td>\n",
       "      <td>7</td>\n",
       "      <td>19934</td>\n",
       "    </tr>\n",
       "    <tr>\n",
       "      <th>1</th>\n",
       "      <td>1</td>\n",
       "      <td>2024-04-20</td>\n",
       "      <td>7</td>\n",
       "      <td>7235</td>\n",
       "    </tr>\n",
       "    <tr>\n",
       "      <th>2</th>\n",
       "      <td>2</td>\n",
       "      <td>2024-04-29</td>\n",
       "      <td>7</td>\n",
       "      <td>22954</td>\n",
       "    </tr>\n",
       "    <tr>\n",
       "      <th>3</th>\n",
       "      <td>3</td>\n",
       "      <td>2024-04-15</td>\n",
       "      <td>5</td>\n",
       "      <td>40461</td>\n",
       "    </tr>\n",
       "    <tr>\n",
       "      <th>4</th>\n",
       "      <td>4</td>\n",
       "      <td>2024-04-11</td>\n",
       "      <td>2</td>\n",
       "      <td>5317</td>\n",
       "    </tr>\n",
       "    <tr>\n",
       "      <th>...</th>\n",
       "      <td>...</td>\n",
       "      <td>...</td>\n",
       "      <td>...</td>\n",
       "      <td>...</td>\n",
       "    </tr>\n",
       "    <tr>\n",
       "      <th>95</th>\n",
       "      <td>95</td>\n",
       "      <td>2024-04-29</td>\n",
       "      <td>9</td>\n",
       "      <td>19270</td>\n",
       "    </tr>\n",
       "    <tr>\n",
       "      <th>96</th>\n",
       "      <td>96</td>\n",
       "      <td>2024-04-18</td>\n",
       "      <td>0</td>\n",
       "      <td>15922</td>\n",
       "    </tr>\n",
       "    <tr>\n",
       "      <th>97</th>\n",
       "      <td>97</td>\n",
       "      <td>2024-04-26</td>\n",
       "      <td>1</td>\n",
       "      <td>15221</td>\n",
       "    </tr>\n",
       "    <tr>\n",
       "      <th>98</th>\n",
       "      <td>98</td>\n",
       "      <td>2024-04-12</td>\n",
       "      <td>3</td>\n",
       "      <td>10102</td>\n",
       "    </tr>\n",
       "    <tr>\n",
       "      <th>99</th>\n",
       "      <td>99</td>\n",
       "      <td>2024-04-02</td>\n",
       "      <td>3</td>\n",
       "      <td>5308</td>\n",
       "    </tr>\n",
       "  </tbody>\n",
       "</table>\n",
       "<p>100 rows × 4 columns</p>\n",
       "</div>"
      ],
      "text/plain": [
       "    parcel_id accept_date  index_id   mass\n",
       "0           0  2024-04-07         7  19934\n",
       "1           1  2024-04-20         7   7235\n",
       "2           2  2024-04-29         7  22954\n",
       "3           3  2024-04-15         5  40461\n",
       "4           4  2024-04-11         2   5317\n",
       "..        ...         ...       ...    ...\n",
       "95         95  2024-04-29         9  19270\n",
       "96         96  2024-04-18         0  15922\n",
       "97         97  2024-04-26         1  15221\n",
       "98         98  2024-04-12         3  10102\n",
       "99         99  2024-04-02         3   5308\n",
       "\n",
       "[100 rows x 4 columns]"
      ]
     },
     "execution_count": 21,
     "metadata": {},
     "output_type": "execute_result"
    }
   ],
   "source": [
    "parcel_aggr"
   ]
  },
  {
   "cell_type": "markdown",
   "id": "2febee59-911c-4c3d-b982-fc8320879025",
   "metadata": {},
   "source": [
    "On the histogram, we can see that the data looks relatively realistic because we took the absolute value, and parcels with smaller masses occur much more frequently than those with larger masses."
   ]
  },
  {
   "cell_type": "code",
   "execution_count": 22,
   "id": "3a36f3d6-71fb-4fb8-9ea1-0b26192410e1",
   "metadata": {
    "tags": []
   },
   "outputs": [
    {
     "data": {
      "text/plain": [
       "<Axes: >"
      ]
     },
     "execution_count": 22,
     "metadata": {},
     "output_type": "execute_result"
    },
    {
     "data": {
      "image/png": "[encoded data removed]",
      "text/plain": [
       "<Figure size 640x480 with 1 Axes>"
      ]
     },
     "metadata": {},
     "output_type": "display_data"
    }
   ],
   "source": [
    "parcel_aggr.mass.hist()"
   ]
  },
  {
   "cell_type": "markdown",
   "id": "31324bfd-5a45-4eca-85ef-061709f429f8",
   "metadata": {
    "tags": []
   },
   "source": [
    "Let's create a histogram for the price using the same method."
   ]
  },
  {
   "cell_type": "code",
   "execution_count": 23,
   "id": "68be349b-c037-464d-bbb0-f61d5e6b9f22",
   "metadata": {
    "tags": []
   },
   "outputs": [],
   "source": [
    "np.random.seed(42)\n",
    "parcel_aggr['price'] = np.round(np.abs(pd.Series(np.random.normal(10000,50000,size=100)).values)).astype('int')"
   ]
  },
  {
   "cell_type": "code",
   "execution_count": 24,
   "id": "5d493af3-1c0b-4d7f-8759-e0a71e5c586a",
   "metadata": {
    "tags": []
   },
   "outputs": [
    {
     "data": {
      "text/plain": [
       "<Axes: >"
      ]
     },
     "execution_count": 24,
     "metadata": {},
     "output_type": "execute_result"
    },
    {
     "data": {
      "image/png": "[encoded data removed]",
      "text/plain": [
       "<Figure size 640x480 with 1 Axes>"
      ]
     },
     "metadata": {},
     "output_type": "display_data"
    }
   ],
   "source": [
    "parcel_aggr.price.hist()"
   ]
  },
  {
   "cell_type": "code",
   "execution_count": null,
   "id": "f2cbe8da-b6e8-43d7-b4fd-8902e4efeee1",
   "metadata": {},
   "outputs": [],
   "source": []
  },
  {
   "cell_type": "code",
   "execution_count": 25,
   "id": "c878b2d7-4d80-490a-89ab-373448892dff",
   "metadata": {
    "tags": []
   },
   "outputs": [],
   "source": [
    "np.random.seed(42)\n",
    "parcel_aggr['client_type'] = np.random.choice(['individual','entity'], size=100)"
   ]
  },
  {
   "cell_type": "code",
   "execution_count": 26,
   "id": "0449846b-dc58-41b4-a9cb-186bf7aec185",
   "metadata": {
    "tags": []
   },
   "outputs": [],
   "source": [
    "index_data = pd.DataFrame(parcel_aggr['index_id'].sample(10,replace = True,random_state=42).values)"
   ]
  },
  {
   "cell_type": "code",
   "execution_count": 27,
   "id": "221da234-4a59-401a-ab14-ba2d0799f50b",
   "metadata": {
    "tags": []
   },
   "outputs": [],
   "source": [
    "index_data.rename(columns = {0:'index_id'},inplace=True)"
   ]
  },
  {
   "cell_type": "markdown",
   "id": "51646cdd-98d2-414c-9a97-8682add2da38",
   "metadata": {
    "tags": []
   },
   "source": [
    "Next, we'll create a new table."
   ]
  },
  {
   "cell_type": "code",
   "execution_count": 28,
   "id": "06aec3a9-fbda-4bd7-a354-0645e5f0e60e",
   "metadata": {
    "tags": []
   },
   "outputs": [
    {
     "data": {
      "text/html": [
       "<div>\n",
       "<style scoped>\n",
       "    .dataframe tbody tr th:only-of-type {\n",
       "        vertical-align: middle;\n",
       "    }\n",
       "\n",
       "    .dataframe tbody tr th {\n",
       "        vertical-align: top;\n",
       "    }\n",
       "\n",
       "    .dataframe thead th {\n",
       "        text-align: right;\n",
       "    }\n",
       "</style>\n",
       "<table border=\"1\" class=\"dataframe\">\n",
       "  <thead>\n",
       "    <tr style=\"text-align: right;\">\n",
       "      <th></th>\n",
       "      <th>index_id</th>\n",
       "    </tr>\n",
       "  </thead>\n",
       "  <tbody>\n",
       "    <tr>\n",
       "      <th>0</th>\n",
       "      <td>8</td>\n",
       "    </tr>\n",
       "    <tr>\n",
       "      <th>1</th>\n",
       "      <td>0</td>\n",
       "    </tr>\n",
       "    <tr>\n",
       "      <th>2</th>\n",
       "      <td>4</td>\n",
       "    </tr>\n",
       "    <tr>\n",
       "      <th>3</th>\n",
       "      <td>1</td>\n",
       "    </tr>\n",
       "    <tr>\n",
       "      <th>4</th>\n",
       "      <td>8</td>\n",
       "    </tr>\n",
       "    <tr>\n",
       "      <th>5</th>\n",
       "      <td>4</td>\n",
       "    </tr>\n",
       "    <tr>\n",
       "      <th>6</th>\n",
       "      <td>9</td>\n",
       "    </tr>\n",
       "    <tr>\n",
       "      <th>7</th>\n",
       "      <td>2</td>\n",
       "    </tr>\n",
       "    <tr>\n",
       "      <th>8</th>\n",
       "      <td>5</td>\n",
       "    </tr>\n",
       "    <tr>\n",
       "      <th>9</th>\n",
       "      <td>5</td>\n",
       "    </tr>\n",
       "  </tbody>\n",
       "</table>\n",
       "</div>"
      ],
      "text/plain": [
       "   index_id\n",
       "0         8\n",
       "1         0\n",
       "2         4\n",
       "3         1\n",
       "4         8\n",
       "5         4\n",
       "6         9\n",
       "7         2\n",
       "8         5\n",
       "9         5"
      ]
     },
     "execution_count": 28,
     "metadata": {},
     "output_type": "execute_result"
    }
   ],
   "source": [
    "index_data"
   ]
  },
  {
   "cell_type": "markdown",
   "id": "cecd7392-a3b9-49cb-b3b2-161b32e59143",
   "metadata": {
    "tags": []
   },
   "source": [
    "Let's add major cities to the data."
   ]
  },
  {
   "cell_type": "code",
   "execution_count": 29,
   "id": "25299db3-6423-4f42-badb-e84f4c107b7e",
   "metadata": {
    "tags": []
   },
   "outputs": [],
   "source": [
    "index_data['area'] = pd.Series(['London',\n",
    "'New York City',\n",
    "'Paris',\n",
    "'Tokyo',\n",
    "'Sydney',\n",
    "'Rome',\n",
    "'Beijing',\n",
    "'Kyiv',\n",
    "'Cairo',\n",
    "'Rio de Janeiro']).values"
   ]
  },
  {
   "cell_type": "code",
   "execution_count": 30,
   "id": "722ebe56-8f63-4b32-b41c-c211d2192056",
   "metadata": {
    "tags": []
   },
   "outputs": [
    {
     "data": {
      "text/html": [
       "<div>\n",
       "<style scoped>\n",
       "    .dataframe tbody tr th:only-of-type {\n",
       "        vertical-align: middle;\n",
       "    }\n",
       "\n",
       "    .dataframe tbody tr th {\n",
       "        vertical-align: top;\n",
       "    }\n",
       "\n",
       "    .dataframe thead th {\n",
       "        text-align: right;\n",
       "    }\n",
       "</style>\n",
       "<table border=\"1\" class=\"dataframe\">\n",
       "  <thead>\n",
       "    <tr style=\"text-align: right;\">\n",
       "      <th></th>\n",
       "      <th>index_id</th>\n",
       "      <th>area</th>\n",
       "    </tr>\n",
       "  </thead>\n",
       "  <tbody>\n",
       "    <tr>\n",
       "      <th>0</th>\n",
       "      <td>8</td>\n",
       "      <td>London</td>\n",
       "    </tr>\n",
       "    <tr>\n",
       "      <th>1</th>\n",
       "      <td>0</td>\n",
       "      <td>New York City</td>\n",
       "    </tr>\n",
       "    <tr>\n",
       "      <th>2</th>\n",
       "      <td>4</td>\n",
       "      <td>Paris</td>\n",
       "    </tr>\n",
       "    <tr>\n",
       "      <th>3</th>\n",
       "      <td>1</td>\n",
       "      <td>Tokyo</td>\n",
       "    </tr>\n",
       "    <tr>\n",
       "      <th>4</th>\n",
       "      <td>8</td>\n",
       "      <td>Sydney</td>\n",
       "    </tr>\n",
       "    <tr>\n",
       "      <th>5</th>\n",
       "      <td>4</td>\n",
       "      <td>Rome</td>\n",
       "    </tr>\n",
       "    <tr>\n",
       "      <th>6</th>\n",
       "      <td>9</td>\n",
       "      <td>Beijing</td>\n",
       "    </tr>\n",
       "    <tr>\n",
       "      <th>7</th>\n",
       "      <td>2</td>\n",
       "      <td>Kyiv</td>\n",
       "    </tr>\n",
       "    <tr>\n",
       "      <th>8</th>\n",
       "      <td>5</td>\n",
       "      <td>Cairo</td>\n",
       "    </tr>\n",
       "    <tr>\n",
       "      <th>9</th>\n",
       "      <td>5</td>\n",
       "      <td>Rio de Janeiro</td>\n",
       "    </tr>\n",
       "  </tbody>\n",
       "</table>\n",
       "</div>"
      ],
      "text/plain": [
       "   index_id            area\n",
       "0         8          London\n",
       "1         0   New York City\n",
       "2         4           Paris\n",
       "3         1           Tokyo\n",
       "4         8          Sydney\n",
       "5         4            Rome\n",
       "6         9         Beijing\n",
       "7         2            Kyiv\n",
       "8         5           Cairo\n",
       "9         5  Rio de Janeiro"
      ]
     },
     "execution_count": 30,
     "metadata": {},
     "output_type": "execute_result"
    }
   ],
   "source": [
    "index_data"
   ]
  },
  {
   "cell_type": "markdown",
   "id": "2f389f65-b743-49d6-b063-64028c781025",
   "metadata": {},
   "source": [
    "Let's set the average population for our cities to be half a million on average, with a large standard deviation of 4 million for diversity."
   ]
  },
  {
   "cell_type": "code",
   "execution_count": 92,
   "id": "06b6de9a-4a75-4433-9907-4339b7bb070a",
   "metadata": {
    "tags": []
   },
   "outputs": [],
   "source": [
    "np.random.seed(42)\n",
    "index_data['population'] = np.round(np.abs(pd.Series(np.random.normal(500_000,4_000_000,size=10)).values)).astype('int')"
   ]
  },
  {
   "cell_type": "code",
   "execution_count": 93,
   "id": "e10c5fa5-5f54-4033-b49d-0b428f679967",
   "metadata": {
    "tags": []
   },
   "outputs": [
    {
     "data": {
      "text/html": [
       "<div>\n",
       "<style scoped>\n",
       "    .dataframe tbody tr th:only-of-type {\n",
       "        vertical-align: middle;\n",
       "    }\n",
       "\n",
       "    .dataframe tbody tr th {\n",
       "        vertical-align: top;\n",
       "    }\n",
       "\n",
       "    .dataframe thead th {\n",
       "        text-align: right;\n",
       "    }\n",
       "</style>\n",
       "<table border=\"1\" class=\"dataframe\">\n",
       "  <thead>\n",
       "    <tr style=\"text-align: right;\">\n",
       "      <th></th>\n",
       "      <th>index_id</th>\n",
       "      <th>area</th>\n",
       "      <th>population</th>\n",
       "    </tr>\n",
       "  </thead>\n",
       "  <tbody>\n",
       "    <tr>\n",
       "      <th>0</th>\n",
       "      <td>8</td>\n",
       "      <td>London</td>\n",
       "      <td>2486857</td>\n",
       "    </tr>\n",
       "    <tr>\n",
       "      <th>1</th>\n",
       "      <td>0</td>\n",
       "      <td>New York City</td>\n",
       "      <td>53057</td>\n",
       "    </tr>\n",
       "    <tr>\n",
       "      <th>2</th>\n",
       "      <td>4</td>\n",
       "      <td>Paris</td>\n",
       "      <td>3090754</td>\n",
       "    </tr>\n",
       "    <tr>\n",
       "      <th>3</th>\n",
       "      <td>1</td>\n",
       "      <td>Tokyo</td>\n",
       "      <td>6592119</td>\n",
       "    </tr>\n",
       "    <tr>\n",
       "      <th>4</th>\n",
       "      <td>8</td>\n",
       "      <td>Sydney</td>\n",
       "      <td>436613</td>\n",
       "    </tr>\n",
       "    <tr>\n",
       "      <th>5</th>\n",
       "      <td>4</td>\n",
       "      <td>Rome</td>\n",
       "      <td>436548</td>\n",
       "    </tr>\n",
       "    <tr>\n",
       "      <th>6</th>\n",
       "      <td>9</td>\n",
       "      <td>Beijing</td>\n",
       "      <td>6816851</td>\n",
       "    </tr>\n",
       "    <tr>\n",
       "      <th>7</th>\n",
       "      <td>2</td>\n",
       "      <td>Kyiv</td>\n",
       "      <td>3569739</td>\n",
       "    </tr>\n",
       "    <tr>\n",
       "      <th>8</th>\n",
       "      <td>5</td>\n",
       "      <td>Cairo</td>\n",
       "      <td>1377898</td>\n",
       "    </tr>\n",
       "    <tr>\n",
       "      <th>9</th>\n",
       "      <td>5</td>\n",
       "      <td>Rio de Janeiro</td>\n",
       "      <td>2670240</td>\n",
       "    </tr>\n",
       "  </tbody>\n",
       "</table>\n",
       "</div>"
      ],
      "text/plain": [
       "   index_id            area  population\n",
       "0         8          London     2486857\n",
       "1         0   New York City       53057\n",
       "2         4           Paris     3090754\n",
       "3         1           Tokyo     6592119\n",
       "4         8          Sydney      436613\n",
       "5         4            Rome      436548\n",
       "6         9         Beijing     6816851\n",
       "7         2            Kyiv     3569739\n",
       "8         5           Cairo     1377898\n",
       "9         5  Rio de Janeiro     2670240"
      ]
     },
     "execution_count": 93,
     "metadata": {},
     "output_type": "execute_result"
    }
   ],
   "source": [
    "index_data"
   ]
  },
  {
   "cell_type": "markdown",
   "id": "c1865c84-79c5-430a-810c-2f566ff67f22",
   "metadata": {},
   "source": [
    "Now let's upload our data to SQLite3."
   ]
  },
  {
   "cell_type": "code",
   "execution_count": 94,
   "id": "29c9a705-45d3-4268-9643-54ff380de785",
   "metadata": {
    "tags": []
   },
   "outputs": [],
   "source": [
    "con = sqlite3.connect('db')\n",
    "cur = con.cursor()"
   ]
  },
  {
   "cell_type": "code",
   "execution_count": 95,
   "id": "be73ca0b-956c-4d87-8d39-ef94a598b443",
   "metadata": {
    "tags": []
   },
   "outputs": [
    {
     "data": {
      "text/plain": [
       "100"
      ]
     },
     "execution_count": 95,
     "metadata": {},
     "output_type": "execute_result"
    }
   ],
   "source": [
    "parcel_aggr.to_sql('parcel_aggr',con,if_exists='replace',index=False)"
   ]
  },
  {
   "cell_type": "code",
   "execution_count": 96,
   "id": "ec9774b3-49d6-44cc-bb6f-1e58a4ef1301",
   "metadata": {
    "tags": []
   },
   "outputs": [],
   "source": [
    "sql = '''select * from parcel_aggr '''"
   ]
  },
  {
   "cell_type": "code",
   "execution_count": 97,
   "id": "d5af3d1b-78bf-40fa-9ddb-fbfc988cfaac",
   "metadata": {
    "tags": []
   },
   "outputs": [],
   "source": [
    "def select(sql):\n",
    "    return pd.read_sql(sql,con)"
   ]
  },
  {
   "cell_type": "code",
   "execution_count": 98,
   "id": "e1f90a5b-4edd-4e04-bf55-9f519e5f93a6",
   "metadata": {
    "tags": []
   },
   "outputs": [
    {
     "data": {
      "text/html": [
       "<div>\n",
       "<style scoped>\n",
       "    .dataframe tbody tr th:only-of-type {\n",
       "        vertical-align: middle;\n",
       "    }\n",
       "\n",
       "    .dataframe tbody tr th {\n",
       "        vertical-align: top;\n",
       "    }\n",
       "\n",
       "    .dataframe thead th {\n",
       "        text-align: right;\n",
       "    }\n",
       "</style>\n",
       "<table border=\"1\" class=\"dataframe\">\n",
       "  <thead>\n",
       "    <tr style=\"text-align: right;\">\n",
       "      <th></th>\n",
       "      <th>parcel_id</th>\n",
       "      <th>accept_date</th>\n",
       "      <th>index_id</th>\n",
       "      <th>mass</th>\n",
       "      <th>price</th>\n",
       "      <th>client_type</th>\n",
       "    </tr>\n",
       "  </thead>\n",
       "  <tbody>\n",
       "    <tr>\n",
       "      <th>0</th>\n",
       "      <td>0</td>\n",
       "      <td>2024-04-07 00:00:00</td>\n",
       "      <td>7</td>\n",
       "      <td>19934</td>\n",
       "      <td>34836</td>\n",
       "      <td>individual</td>\n",
       "    </tr>\n",
       "    <tr>\n",
       "      <th>1</th>\n",
       "      <td>1</td>\n",
       "      <td>2024-04-20 00:00:00</td>\n",
       "      <td>7</td>\n",
       "      <td>7235</td>\n",
       "      <td>3087</td>\n",
       "      <td>entity</td>\n",
       "    </tr>\n",
       "    <tr>\n",
       "      <th>2</th>\n",
       "      <td>2</td>\n",
       "      <td>2024-04-29 00:00:00</td>\n",
       "      <td>7</td>\n",
       "      <td>22954</td>\n",
       "      <td>42384</td>\n",
       "      <td>individual</td>\n",
       "    </tr>\n",
       "    <tr>\n",
       "      <th>3</th>\n",
       "      <td>3</td>\n",
       "      <td>2024-04-15 00:00:00</td>\n",
       "      <td>5</td>\n",
       "      <td>40461</td>\n",
       "      <td>86151</td>\n",
       "      <td>individual</td>\n",
       "    </tr>\n",
       "    <tr>\n",
       "      <th>4</th>\n",
       "      <td>4</td>\n",
       "      <td>2024-04-11 00:00:00</td>\n",
       "      <td>2</td>\n",
       "      <td>5317</td>\n",
       "      <td>1708</td>\n",
       "      <td>individual</td>\n",
       "    </tr>\n",
       "    <tr>\n",
       "      <th>...</th>\n",
       "      <td>...</td>\n",
       "      <td>...</td>\n",
       "      <td>...</td>\n",
       "      <td>...</td>\n",
       "      <td>...</td>\n",
       "      <td>...</td>\n",
       "    </tr>\n",
       "    <tr>\n",
       "      <th>95</th>\n",
       "      <td>95</td>\n",
       "      <td>2024-04-29 00:00:00</td>\n",
       "      <td>9</td>\n",
       "      <td>19270</td>\n",
       "      <td>63176</td>\n",
       "      <td>entity</td>\n",
       "    </tr>\n",
       "    <tr>\n",
       "      <th>96</th>\n",
       "      <td>96</td>\n",
       "      <td>2024-04-18 00:00:00</td>\n",
       "      <td>0</td>\n",
       "      <td>15922</td>\n",
       "      <td>24806</td>\n",
       "      <td>entity</td>\n",
       "    </tr>\n",
       "    <tr>\n",
       "      <th>97</th>\n",
       "      <td>97</td>\n",
       "      <td>2024-04-26 00:00:00</td>\n",
       "      <td>1</td>\n",
       "      <td>15221</td>\n",
       "      <td>23053</td>\n",
       "      <td>entity</td>\n",
       "    </tr>\n",
       "    <tr>\n",
       "      <th>98</th>\n",
       "      <td>98</td>\n",
       "      <td>2024-04-12 00:00:00</td>\n",
       "      <td>3</td>\n",
       "      <td>10102</td>\n",
       "      <td>10256</td>\n",
       "      <td>entity</td>\n",
       "    </tr>\n",
       "    <tr>\n",
       "      <th>99</th>\n",
       "      <td>99</td>\n",
       "      <td>2024-04-02 00:00:00</td>\n",
       "      <td>3</td>\n",
       "      <td>5308</td>\n",
       "      <td>1729</td>\n",
       "      <td>individual</td>\n",
       "    </tr>\n",
       "  </tbody>\n",
       "</table>\n",
       "<p>100 rows × 6 columns</p>\n",
       "</div>"
      ],
      "text/plain": [
       "    parcel_id          accept_date  index_id   mass  price client_type\n",
       "0           0  2024-04-07 00:00:00         7  19934  34836  individual\n",
       "1           1  2024-04-20 00:00:00         7   7235   3087      entity\n",
       "2           2  2024-04-29 00:00:00         7  22954  42384  individual\n",
       "3           3  2024-04-15 00:00:00         5  40461  86151  individual\n",
       "4           4  2024-04-11 00:00:00         2   5317   1708  individual\n",
       "..        ...                  ...       ...    ...    ...         ...\n",
       "95         95  2024-04-29 00:00:00         9  19270  63176      entity\n",
       "96         96  2024-04-18 00:00:00         0  15922  24806      entity\n",
       "97         97  2024-04-26 00:00:00         1  15221  23053      entity\n",
       "98         98  2024-04-12 00:00:00         3  10102  10256      entity\n",
       "99         99  2024-04-02 00:00:00         3   5308   1729  individual\n",
       "\n",
       "[100 rows x 6 columns]"
      ]
     },
     "execution_count": 98,
     "metadata": {},
     "output_type": "execute_result"
    }
   ],
   "source": [
    "select(sql)"
   ]
  },
  {
   "cell_type": "code",
   "execution_count": 99,
   "id": "933df940-ee7e-4dc5-b3bf-16f406b35cf8",
   "metadata": {
    "tags": []
   },
   "outputs": [
    {
     "data": {
      "text/plain": [
       "10"
      ]
     },
     "execution_count": 99,
     "metadata": {},
     "output_type": "execute_result"
    }
   ],
   "source": [
    "index_data.to_sql('index_data',con,if_exists='replace',index=False)"
   ]
  },
  {
   "cell_type": "code",
   "execution_count": 100,
   "id": "4bf43bbe-189b-4ac6-83e6-b5049a9e1f78",
   "metadata": {
    "tags": []
   },
   "outputs": [],
   "source": [
    "sql = '''select * from  index_data '''"
   ]
  },
  {
   "cell_type": "code",
   "execution_count": 101,
   "id": "d2c10275-ff32-4ced-9867-175ebc03e8a3",
   "metadata": {
    "tags": []
   },
   "outputs": [],
   "source": [
    "def select(sql):\n",
    "    return pd.read_sql(sql,con)"
   ]
  },
  {
   "cell_type": "code",
   "execution_count": 102,
   "id": "2cc1f228-1456-4b4c-af03-26858be88aed",
   "metadata": {
    "tags": []
   },
   "outputs": [
    {
     "data": {
      "text/html": [
       "<div>\n",
       "<style scoped>\n",
       "    .dataframe tbody tr th:only-of-type {\n",
       "        vertical-align: middle;\n",
       "    }\n",
       "\n",
       "    .dataframe tbody tr th {\n",
       "        vertical-align: top;\n",
       "    }\n",
       "\n",
       "    .dataframe thead th {\n",
       "        text-align: right;\n",
       "    }\n",
       "</style>\n",
       "<table border=\"1\" class=\"dataframe\">\n",
       "  <thead>\n",
       "    <tr style=\"text-align: right;\">\n",
       "      <th></th>\n",
       "      <th>index_id</th>\n",
       "      <th>area</th>\n",
       "      <th>population</th>\n",
       "    </tr>\n",
       "  </thead>\n",
       "  <tbody>\n",
       "    <tr>\n",
       "      <th>0</th>\n",
       "      <td>8</td>\n",
       "      <td>London</td>\n",
       "      <td>2486857</td>\n",
       "    </tr>\n",
       "    <tr>\n",
       "      <th>1</th>\n",
       "      <td>0</td>\n",
       "      <td>New York City</td>\n",
       "      <td>53057</td>\n",
       "    </tr>\n",
       "    <tr>\n",
       "      <th>2</th>\n",
       "      <td>4</td>\n",
       "      <td>Paris</td>\n",
       "      <td>3090754</td>\n",
       "    </tr>\n",
       "    <tr>\n",
       "      <th>3</th>\n",
       "      <td>1</td>\n",
       "      <td>Tokyo</td>\n",
       "      <td>6592119</td>\n",
       "    </tr>\n",
       "    <tr>\n",
       "      <th>4</th>\n",
       "      <td>8</td>\n",
       "      <td>Sydney</td>\n",
       "      <td>436613</td>\n",
       "    </tr>\n",
       "    <tr>\n",
       "      <th>5</th>\n",
       "      <td>4</td>\n",
       "      <td>Rome</td>\n",
       "      <td>436548</td>\n",
       "    </tr>\n",
       "    <tr>\n",
       "      <th>6</th>\n",
       "      <td>9</td>\n",
       "      <td>Beijing</td>\n",
       "      <td>6816851</td>\n",
       "    </tr>\n",
       "    <tr>\n",
       "      <th>7</th>\n",
       "      <td>2</td>\n",
       "      <td>Kyiv</td>\n",
       "      <td>3569739</td>\n",
       "    </tr>\n",
       "    <tr>\n",
       "      <th>8</th>\n",
       "      <td>5</td>\n",
       "      <td>Cairo</td>\n",
       "      <td>1377898</td>\n",
       "    </tr>\n",
       "    <tr>\n",
       "      <th>9</th>\n",
       "      <td>5</td>\n",
       "      <td>Rio de Janeiro</td>\n",
       "      <td>2670240</td>\n",
       "    </tr>\n",
       "  </tbody>\n",
       "</table>\n",
       "</div>"
      ],
      "text/plain": [
       "   index_id            area  population\n",
       "0         8          London     2486857\n",
       "1         0   New York City       53057\n",
       "2         4           Paris     3090754\n",
       "3         1           Tokyo     6592119\n",
       "4         8          Sydney      436613\n",
       "5         4            Rome      436548\n",
       "6         9         Beijing     6816851\n",
       "7         2            Kyiv     3569739\n",
       "8         5           Cairo     1377898\n",
       "9         5  Rio de Janeiro     2670240"
      ]
     },
     "execution_count": 102,
     "metadata": {},
     "output_type": "execute_result"
    }
   ],
   "source": [
    "select(sql)"
   ]
  },
  {
   "cell_type": "markdown",
   "id": "93d80fe5-17f5-4e9e-a8c1-3b571f4a734f",
   "metadata": {},
   "source": [
    "Now we have a 'select' function that will read our data"
   ]
  },
  {
   "cell_type": "markdown",
   "id": "d9639d62-c568-451f-9640-c52da4f39260",
   "metadata": {},
   "source": [
    "# Analysis"
   ]
  },
  {
   "cell_type": "code",
   "execution_count": 103,
   "id": "bfb38740-0b3c-482e-ae30-e5ac130e9b80",
   "metadata": {
    "tags": []
   },
   "outputs": [],
   "source": [
    "sql = '''select * from parcel_aggr t'''"
   ]
  },
  {
   "cell_type": "code",
   "execution_count": 104,
   "id": "656623b3-ad2b-4788-95ac-38b83e44dc74",
   "metadata": {
    "tags": []
   },
   "outputs": [
    {
     "data": {
      "text/html": [
       "<div>\n",
       "<style scoped>\n",
       "    .dataframe tbody tr th:only-of-type {\n",
       "        vertical-align: middle;\n",
       "    }\n",
       "\n",
       "    .dataframe tbody tr th {\n",
       "        vertical-align: top;\n",
       "    }\n",
       "\n",
       "    .dataframe thead th {\n",
       "        text-align: right;\n",
       "    }\n",
       "</style>\n",
       "<table border=\"1\" class=\"dataframe\">\n",
       "  <thead>\n",
       "    <tr style=\"text-align: right;\">\n",
       "      <th></th>\n",
       "      <th>parcel_id</th>\n",
       "      <th>accept_date</th>\n",
       "      <th>index_id</th>\n",
       "      <th>mass</th>\n",
       "      <th>price</th>\n",
       "      <th>client_type</th>\n",
       "    </tr>\n",
       "  </thead>\n",
       "  <tbody>\n",
       "    <tr>\n",
       "      <th>0</th>\n",
       "      <td>0</td>\n",
       "      <td>2024-04-07 00:00:00</td>\n",
       "      <td>7</td>\n",
       "      <td>19934</td>\n",
       "      <td>34836</td>\n",
       "      <td>individual</td>\n",
       "    </tr>\n",
       "    <tr>\n",
       "      <th>1</th>\n",
       "      <td>1</td>\n",
       "      <td>2024-04-20 00:00:00</td>\n",
       "      <td>7</td>\n",
       "      <td>7235</td>\n",
       "      <td>3087</td>\n",
       "      <td>entity</td>\n",
       "    </tr>\n",
       "    <tr>\n",
       "      <th>2</th>\n",
       "      <td>2</td>\n",
       "      <td>2024-04-29 00:00:00</td>\n",
       "      <td>7</td>\n",
       "      <td>22954</td>\n",
       "      <td>42384</td>\n",
       "      <td>individual</td>\n",
       "    </tr>\n",
       "    <tr>\n",
       "      <th>3</th>\n",
       "      <td>3</td>\n",
       "      <td>2024-04-15 00:00:00</td>\n",
       "      <td>5</td>\n",
       "      <td>40461</td>\n",
       "      <td>86151</td>\n",
       "      <td>individual</td>\n",
       "    </tr>\n",
       "    <tr>\n",
       "      <th>4</th>\n",
       "      <td>4</td>\n",
       "      <td>2024-04-11 00:00:00</td>\n",
       "      <td>2</td>\n",
       "      <td>5317</td>\n",
       "      <td>1708</td>\n",
       "      <td>individual</td>\n",
       "    </tr>\n",
       "    <tr>\n",
       "      <th>...</th>\n",
       "      <td>...</td>\n",
       "      <td>...</td>\n",
       "      <td>...</td>\n",
       "      <td>...</td>\n",
       "      <td>...</td>\n",
       "      <td>...</td>\n",
       "    </tr>\n",
       "    <tr>\n",
       "      <th>95</th>\n",
       "      <td>95</td>\n",
       "      <td>2024-04-29 00:00:00</td>\n",
       "      <td>9</td>\n",
       "      <td>19270</td>\n",
       "      <td>63176</td>\n",
       "      <td>entity</td>\n",
       "    </tr>\n",
       "    <tr>\n",
       "      <th>96</th>\n",
       "      <td>96</td>\n",
       "      <td>2024-04-18 00:00:00</td>\n",
       "      <td>0</td>\n",
       "      <td>15922</td>\n",
       "      <td>24806</td>\n",
       "      <td>entity</td>\n",
       "    </tr>\n",
       "    <tr>\n",
       "      <th>97</th>\n",
       "      <td>97</td>\n",
       "      <td>2024-04-26 00:00:00</td>\n",
       "      <td>1</td>\n",
       "      <td>15221</td>\n",
       "      <td>23053</td>\n",
       "      <td>entity</td>\n",
       "    </tr>\n",
       "    <tr>\n",
       "      <th>98</th>\n",
       "      <td>98</td>\n",
       "      <td>2024-04-12 00:00:00</td>\n",
       "      <td>3</td>\n",
       "      <td>10102</td>\n",
       "      <td>10256</td>\n",
       "      <td>entity</td>\n",
       "    </tr>\n",
       "    <tr>\n",
       "      <th>99</th>\n",
       "      <td>99</td>\n",
       "      <td>2024-04-02 00:00:00</td>\n",
       "      <td>3</td>\n",
       "      <td>5308</td>\n",
       "      <td>1729</td>\n",
       "      <td>individual</td>\n",
       "    </tr>\n",
       "  </tbody>\n",
       "</table>\n",
       "<p>100 rows × 6 columns</p>\n",
       "</div>"
      ],
      "text/plain": [
       "    parcel_id          accept_date  index_id   mass  price client_type\n",
       "0           0  2024-04-07 00:00:00         7  19934  34836  individual\n",
       "1           1  2024-04-20 00:00:00         7   7235   3087      entity\n",
       "2           2  2024-04-29 00:00:00         7  22954  42384  individual\n",
       "3           3  2024-04-15 00:00:00         5  40461  86151  individual\n",
       "4           4  2024-04-11 00:00:00         2   5317   1708  individual\n",
       "..        ...                  ...       ...    ...    ...         ...\n",
       "95         95  2024-04-29 00:00:00         9  19270  63176      entity\n",
       "96         96  2024-04-18 00:00:00         0  15922  24806      entity\n",
       "97         97  2024-04-26 00:00:00         1  15221  23053      entity\n",
       "98         98  2024-04-12 00:00:00         3  10102  10256      entity\n",
       "99         99  2024-04-02 00:00:00         3   5308   1729  individual\n",
       "\n",
       "[100 rows x 6 columns]"
      ]
     },
     "execution_count": 104,
     "metadata": {},
     "output_type": "execute_result"
    }
   ],
   "source": [
    "select(sql)"
   ]
  },
  {
   "cell_type": "code",
   "execution_count": 105,
   "id": "34bd2f76-7aa0-4021-9038-a7c5cdb7ef1f",
   "metadata": {
    "tags": []
   },
   "outputs": [],
   "source": [
    "sql = '''select * from index_data'''"
   ]
  },
  {
   "cell_type": "code",
   "execution_count": 106,
   "id": "fbaa233b-9305-4a69-ae5c-15d184aa5456",
   "metadata": {
    "tags": []
   },
   "outputs": [
    {
     "data": {
      "text/html": [
       "<div>\n",
       "<style scoped>\n",
       "    .dataframe tbody tr th:only-of-type {\n",
       "        vertical-align: middle;\n",
       "    }\n",
       "\n",
       "    .dataframe tbody tr th {\n",
       "        vertical-align: top;\n",
       "    }\n",
       "\n",
       "    .dataframe thead th {\n",
       "        text-align: right;\n",
       "    }\n",
       "</style>\n",
       "<table border=\"1\" class=\"dataframe\">\n",
       "  <thead>\n",
       "    <tr style=\"text-align: right;\">\n",
       "      <th></th>\n",
       "      <th>index_id</th>\n",
       "      <th>area</th>\n",
       "      <th>population</th>\n",
       "    </tr>\n",
       "  </thead>\n",
       "  <tbody>\n",
       "    <tr>\n",
       "      <th>0</th>\n",
       "      <td>8</td>\n",
       "      <td>London</td>\n",
       "      <td>2486857</td>\n",
       "    </tr>\n",
       "    <tr>\n",
       "      <th>1</th>\n",
       "      <td>0</td>\n",
       "      <td>New York City</td>\n",
       "      <td>53057</td>\n",
       "    </tr>\n",
       "    <tr>\n",
       "      <th>2</th>\n",
       "      <td>4</td>\n",
       "      <td>Paris</td>\n",
       "      <td>3090754</td>\n",
       "    </tr>\n",
       "    <tr>\n",
       "      <th>3</th>\n",
       "      <td>1</td>\n",
       "      <td>Tokyo</td>\n",
       "      <td>6592119</td>\n",
       "    </tr>\n",
       "    <tr>\n",
       "      <th>4</th>\n",
       "      <td>8</td>\n",
       "      <td>Sydney</td>\n",
       "      <td>436613</td>\n",
       "    </tr>\n",
       "    <tr>\n",
       "      <th>5</th>\n",
       "      <td>4</td>\n",
       "      <td>Rome</td>\n",
       "      <td>436548</td>\n",
       "    </tr>\n",
       "    <tr>\n",
       "      <th>6</th>\n",
       "      <td>9</td>\n",
       "      <td>Beijing</td>\n",
       "      <td>6816851</td>\n",
       "    </tr>\n",
       "    <tr>\n",
       "      <th>7</th>\n",
       "      <td>2</td>\n",
       "      <td>Kyiv</td>\n",
       "      <td>3569739</td>\n",
       "    </tr>\n",
       "    <tr>\n",
       "      <th>8</th>\n",
       "      <td>5</td>\n",
       "      <td>Cairo</td>\n",
       "      <td>1377898</td>\n",
       "    </tr>\n",
       "    <tr>\n",
       "      <th>9</th>\n",
       "      <td>5</td>\n",
       "      <td>Rio de Janeiro</td>\n",
       "      <td>2670240</td>\n",
       "    </tr>\n",
       "  </tbody>\n",
       "</table>\n",
       "</div>"
      ],
      "text/plain": [
       "   index_id            area  population\n",
       "0         8          London     2486857\n",
       "1         0   New York City       53057\n",
       "2         4           Paris     3090754\n",
       "3         1           Tokyo     6592119\n",
       "4         8          Sydney      436613\n",
       "5         4            Rome      436548\n",
       "6         9         Beijing     6816851\n",
       "7         2            Kyiv     3569739\n",
       "8         5           Cairo     1377898\n",
       "9         5  Rio de Janeiro     2670240"
      ]
     },
     "execution_count": 106,
     "metadata": {},
     "output_type": "execute_result"
    }
   ],
   "source": [
    "select(sql)"
   ]
  },
  {
   "cell_type": "markdown",
   "id": "df338c2a-1f47-4d30-840f-a342bf0d3a93",
   "metadata": {},
   "source": [
    "# Task 1"
   ]
  },
  {
   "cell_type": "markdown",
   "id": "5d581525-4c1a-4359-9dd3-c50428fb0787",
   "metadata": {},
   "source": [
    "To output the average tariff rate for shipping and mass by branch indexes where shipments were accepted:\n",
    "\n",
    "Average shipping tariff rate and average mass by branch indexes where shipments were accepted.\n",
    "\n",
    "New item\n"
   ]
  },
  {
   "cell_type": "code",
   "execution_count": null,
   "id": "980e5442-d76a-45d6-9510-28d372b0baed",
   "metadata": {},
   "outputs": [],
   "source": []
  },
  {
   "cell_type": "code",
   "execution_count": 107,
   "id": "4fdc1eae-bd6f-47b7-a457-f81360fcb924",
   "metadata": {
    "tags": []
   },
   "outputs": [],
   "source": [
    "sql = '''\n",
    "    SELECT \n",
    "    index_id,\n",
    "    count(index_id) as amount_in_group,\n",
    "    AVG(t.price) AS avg_price,\n",
    "    AVG(t.mass) AS avg_mass\n",
    "FROM parcel_aggr t\n",
    "GROUP BY index_id\n",
    "'''"
   ]
  },
  {
   "cell_type": "code",
   "execution_count": 108,
   "id": "7913f0af-9645-40c2-96fa-35a6b704e4d8",
   "metadata": {
    "tags": []
   },
   "outputs": [
    {
     "data": {
      "text/html": [
       "<div>\n",
       "<style scoped>\n",
       "    .dataframe tbody tr th:only-of-type {\n",
       "        vertical-align: middle;\n",
       "    }\n",
       "\n",
       "    .dataframe tbody tr th {\n",
       "        vertical-align: top;\n",
       "    }\n",
       "\n",
       "    .dataframe thead th {\n",
       "        text-align: right;\n",
       "    }\n",
       "</style>\n",
       "<table border=\"1\" class=\"dataframe\">\n",
       "  <thead>\n",
       "    <tr style=\"text-align: right;\">\n",
       "      <th></th>\n",
       "      <th>index_id</th>\n",
       "      <th>amount_in_group</th>\n",
       "      <th>avg_price</th>\n",
       "      <th>avg_mass</th>\n",
       "    </tr>\n",
       "  </thead>\n",
       "  <tbody>\n",
       "    <tr>\n",
       "      <th>0</th>\n",
       "      <td>0</td>\n",
       "      <td>10</td>\n",
       "      <td>27498.100000</td>\n",
       "      <td>13464.000000</td>\n",
       "    </tr>\n",
       "    <tr>\n",
       "      <th>1</th>\n",
       "      <td>1</td>\n",
       "      <td>12</td>\n",
       "      <td>37465.166667</td>\n",
       "      <td>16986.083333</td>\n",
       "    </tr>\n",
       "    <tr>\n",
       "      <th>2</th>\n",
       "      <td>2</td>\n",
       "      <td>10</td>\n",
       "      <td>44274.800000</td>\n",
       "      <td>17573.400000</td>\n",
       "    </tr>\n",
       "    <tr>\n",
       "      <th>3</th>\n",
       "      <td>3</td>\n",
       "      <td>8</td>\n",
       "      <td>33488.375000</td>\n",
       "      <td>11623.875000</td>\n",
       "    </tr>\n",
       "    <tr>\n",
       "      <th>4</th>\n",
       "      <td>4</td>\n",
       "      <td>10</td>\n",
       "      <td>42133.200000</td>\n",
       "      <td>20016.500000</td>\n",
       "    </tr>\n",
       "    <tr>\n",
       "      <th>5</th>\n",
       "      <td>5</td>\n",
       "      <td>11</td>\n",
       "      <td>37735.272727</td>\n",
       "      <td>16495.090909</td>\n",
       "    </tr>\n",
       "    <tr>\n",
       "      <th>6</th>\n",
       "      <td>6</td>\n",
       "      <td>6</td>\n",
       "      <td>46389.500000</td>\n",
       "      <td>19704.833333</td>\n",
       "    </tr>\n",
       "    <tr>\n",
       "      <th>7</th>\n",
       "      <td>7</td>\n",
       "      <td>13</td>\n",
       "      <td>34200.615385</td>\n",
       "      <td>15200.615385</td>\n",
       "    </tr>\n",
       "    <tr>\n",
       "      <th>8</th>\n",
       "      <td>8</td>\n",
       "      <td>11</td>\n",
       "      <td>26444.090909</td>\n",
       "      <td>13306.727273</td>\n",
       "    </tr>\n",
       "    <tr>\n",
       "      <th>9</th>\n",
       "      <td>9</td>\n",
       "      <td>9</td>\n",
       "      <td>34716.777778</td>\n",
       "      <td>13382.444444</td>\n",
       "    </tr>\n",
       "  </tbody>\n",
       "</table>\n",
       "</div>"
      ],
      "text/plain": [
       "   index_id  amount_in_group     avg_price      avg_mass\n",
       "0         0               10  27498.100000  13464.000000\n",
       "1         1               12  37465.166667  16986.083333\n",
       "2         2               10  44274.800000  17573.400000\n",
       "3         3                8  33488.375000  11623.875000\n",
       "4         4               10  42133.200000  20016.500000\n",
       "5         5               11  37735.272727  16495.090909\n",
       "6         6                6  46389.500000  19704.833333\n",
       "7         7               13  34200.615385  15200.615385\n",
       "8         8               11  26444.090909  13306.727273\n",
       "9         9                9  34716.777778  13382.444444"
      ]
     },
     "execution_count": 108,
     "metadata": {},
     "output_type": "execute_result"
    }
   ],
   "source": [
    "select(sql)"
   ]
  },
  {
   "cell_type": "markdown",
   "id": "0eceb0d0-9159-4560-91e5-d2b3658c193d",
   "metadata": {},
   "source": [
    "# Output the number of shipments broken down by branch indexes where shipments were accepted. Consider only shipments with a mass greater than or equal to 10 kg."
   ]
  },
  {
   "cell_type": "markdown",
   "id": "b7c3f77c-d80e-4a37-a740-1b6484c1bb44",
   "metadata": {},
   "source": [
    "The mass is represented in grams."
   ]
  },
  {
   "cell_type": "code",
   "execution_count": 109,
   "id": "996338d3-1429-410e-a76a-5a747be143c0",
   "metadata": {
    "tags": []
   },
   "outputs": [],
   "source": [
    "sql = '''\n",
    "    SELECT \n",
    "    count(index_id) as amount_of_departure\n",
    "FROM parcel_aggr t\n",
    "where mass >=10000\n",
    "group by  index_id\n",
    "'''"
   ]
  },
  {
   "cell_type": "code",
   "execution_count": 110,
   "id": "92688f56-5648-4053-9345-9d4519f0a35d",
   "metadata": {
    "tags": []
   },
   "outputs": [
    {
     "data": {
      "text/html": [
       "<div>\n",
       "<style scoped>\n",
       "    .dataframe tbody tr th:only-of-type {\n",
       "        vertical-align: middle;\n",
       "    }\n",
       "\n",
       "    .dataframe tbody tr th {\n",
       "        vertical-align: top;\n",
       "    }\n",
       "\n",
       "    .dataframe thead th {\n",
       "        text-align: right;\n",
       "    }\n",
       "</style>\n",
       "<table border=\"1\" class=\"dataframe\">\n",
       "  <thead>\n",
       "    <tr style=\"text-align: right;\">\n",
       "      <th></th>\n",
       "      <th>amount_of_departure</th>\n",
       "    </tr>\n",
       "  </thead>\n",
       "  <tbody>\n",
       "    <tr>\n",
       "      <th>0</th>\n",
       "      <td>5</td>\n",
       "    </tr>\n",
       "    <tr>\n",
       "      <th>1</th>\n",
       "      <td>9</td>\n",
       "    </tr>\n",
       "    <tr>\n",
       "      <th>2</th>\n",
       "      <td>7</td>\n",
       "    </tr>\n",
       "    <tr>\n",
       "      <th>3</th>\n",
       "      <td>4</td>\n",
       "    </tr>\n",
       "    <tr>\n",
       "      <th>4</th>\n",
       "      <td>8</td>\n",
       "    </tr>\n",
       "    <tr>\n",
       "      <th>5</th>\n",
       "      <td>7</td>\n",
       "    </tr>\n",
       "    <tr>\n",
       "      <th>6</th>\n",
       "      <td>5</td>\n",
       "    </tr>\n",
       "    <tr>\n",
       "      <th>7</th>\n",
       "      <td>7</td>\n",
       "    </tr>\n",
       "    <tr>\n",
       "      <th>8</th>\n",
       "      <td>5</td>\n",
       "    </tr>\n",
       "    <tr>\n",
       "      <th>9</th>\n",
       "      <td>6</td>\n",
       "    </tr>\n",
       "  </tbody>\n",
       "</table>\n",
       "</div>"
      ],
      "text/plain": [
       "   amount_of_departure\n",
       "0                    5\n",
       "1                    9\n",
       "2                    7\n",
       "3                    4\n",
       "4                    8\n",
       "5                    7\n",
       "6                    5\n",
       "7                    7\n",
       "8                    5\n",
       "9                    6"
      ]
     },
     "execution_count": 110,
     "metadata": {},
     "output_type": "execute_result"
    }
   ],
   "source": [
    "select(sql)"
   ]
  },
  {
   "cell_type": "markdown",
   "id": "5bb6a47b-fc2c-4619-a7eb-753886d76fce",
   "metadata": {},
   "source": [
    "We can also add percentages."
   ]
  },
  {
   "cell_type": "code",
   "execution_count": 111,
   "id": "fa34e808-538c-4b4d-b3a1-f5bdf3a802f5",
   "metadata": {
    "tags": []
   },
   "outputs": [],
   "source": [
    "sql = '''\n",
    "    SELECT \n",
    "    count(mass) as amount_of_departure,\n",
    "    count(case when mass >= 10000 then 1 else null end) as more_10_kg,\n",
    "    (count(case when mass >= 10000 then 1 else null end )*1.0 / count(mass))  as more_10_kg_persent\n",
    "FROM parcel_aggr t\n",
    "group by  index_id\n",
    "'''"
   ]
  },
  {
   "cell_type": "code",
   "execution_count": 112,
   "id": "a1452c9b-8b90-45d5-8b08-fabf4712149c",
   "metadata": {
    "tags": []
   },
   "outputs": [
    {
     "data": {
      "text/html": [
       "<div>\n",
       "<style scoped>\n",
       "    .dataframe tbody tr th:only-of-type {\n",
       "        vertical-align: middle;\n",
       "    }\n",
       "\n",
       "    .dataframe tbody tr th {\n",
       "        vertical-align: top;\n",
       "    }\n",
       "\n",
       "    .dataframe thead th {\n",
       "        text-align: right;\n",
       "    }\n",
       "</style>\n",
       "<table border=\"1\" class=\"dataframe\">\n",
       "  <thead>\n",
       "    <tr style=\"text-align: right;\">\n",
       "      <th></th>\n",
       "      <th>amount_of_departure</th>\n",
       "      <th>more_10_kg</th>\n",
       "      <th>more_10_kg_persent</th>\n",
       "    </tr>\n",
       "  </thead>\n",
       "  <tbody>\n",
       "    <tr>\n",
       "      <th>0</th>\n",
       "      <td>10</td>\n",
       "      <td>5</td>\n",
       "      <td>0.500000</td>\n",
       "    </tr>\n",
       "    <tr>\n",
       "      <th>1</th>\n",
       "      <td>12</td>\n",
       "      <td>9</td>\n",
       "      <td>0.750000</td>\n",
       "    </tr>\n",
       "    <tr>\n",
       "      <th>2</th>\n",
       "      <td>10</td>\n",
       "      <td>7</td>\n",
       "      <td>0.700000</td>\n",
       "    </tr>\n",
       "    <tr>\n",
       "      <th>3</th>\n",
       "      <td>8</td>\n",
       "      <td>4</td>\n",
       "      <td>0.500000</td>\n",
       "    </tr>\n",
       "    <tr>\n",
       "      <th>4</th>\n",
       "      <td>10</td>\n",
       "      <td>8</td>\n",
       "      <td>0.800000</td>\n",
       "    </tr>\n",
       "    <tr>\n",
       "      <th>5</th>\n",
       "      <td>11</td>\n",
       "      <td>7</td>\n",
       "      <td>0.636364</td>\n",
       "    </tr>\n",
       "    <tr>\n",
       "      <th>6</th>\n",
       "      <td>6</td>\n",
       "      <td>5</td>\n",
       "      <td>0.833333</td>\n",
       "    </tr>\n",
       "    <tr>\n",
       "      <th>7</th>\n",
       "      <td>13</td>\n",
       "      <td>7</td>\n",
       "      <td>0.538462</td>\n",
       "    </tr>\n",
       "    <tr>\n",
       "      <th>8</th>\n",
       "      <td>11</td>\n",
       "      <td>5</td>\n",
       "      <td>0.454545</td>\n",
       "    </tr>\n",
       "    <tr>\n",
       "      <th>9</th>\n",
       "      <td>9</td>\n",
       "      <td>6</td>\n",
       "      <td>0.666667</td>\n",
       "    </tr>\n",
       "  </tbody>\n",
       "</table>\n",
       "</div>"
      ],
      "text/plain": [
       "   amount_of_departure  more_10_kg  more_10_kg_persent\n",
       "0                   10           5            0.500000\n",
       "1                   12           9            0.750000\n",
       "2                   10           7            0.700000\n",
       "3                    8           4            0.500000\n",
       "4                   10           8            0.800000\n",
       "5                   11           7            0.636364\n",
       "6                    6           5            0.833333\n",
       "7                   13           7            0.538462\n",
       "8                   11           5            0.454545\n",
       "9                    9           6            0.666667"
      ]
     },
     "execution_count": 112,
     "metadata": {},
     "output_type": "execute_result"
    }
   ],
   "source": [
    "select(sql)"
   ]
  },
  {
   "cell_type": "markdown",
   "id": "82a1b9b6-3308-473b-9643-9aab2e64237d",
   "metadata": {},
   "source": [
    "# Output the number of shipments broken down by sender type and population size groups of the locality where the shipment was accepted (less than 50 thousand (inclusive), < 2500000, from 2500000 to <= 3500000, more than 3500000)."
   ]
  },
  {
   "cell_type": "markdown",
   "id": "8ad34b17-b85f-4e06-b128-02d50f5757ab",
   "metadata": {},
   "source": [
    "For this task, we needed to join the tables. I chose a left join to simply attach the right table to the left one. However, the problem is that there might be a Cartesian product or multiplication of rows. We have 100 rows in one table and 10 in the other. Ideally, their combination should also result in 100 rows, but it was 121. I dropped the null values that occurred because there were no corresponding data in the left table, even though the indexes matched. While this approach is not entirely correct, perhaps a better solution would have been to aggregate duplicates into an array. However, I chose to proceed as I did. As a result, I lost 3 rows. For this analysis, I don't consider this to be too significant of an issue."
   ]
  },
  {
   "cell_type": "code",
   "execution_count": 217,
   "id": "b92292a2-506e-4a1b-9aab-5fb01ebc69fe",
   "metadata": {
    "tags": []
   },
   "outputs": [],
   "source": [
    "sql = '''\n",
    "SELECT \n",
    "    l.parcel_id,\n",
    "    l.accept_date,\n",
    "    l.mass,\n",
    "    l.price,\n",
    "    l.client_type,\n",
    "    l.index_id,\n",
    "    r.area,\n",
    "    r.population\n",
    "FROM \n",
    "    (SELECT DISTINCT parcel_id, accept_date, mass, price, client_type, index_id FROM parcel_aggr) AS l\n",
    "LEFT JOIN \n",
    "    (SELECT DISTINCT index_id, area, population FROM index_data) AS r \n",
    "ON \n",
    "    l.index_id = r.index_id\n",
    "\n",
    "\n",
    "'''"
   ]
  },
  {
   "cell_type": "code",
   "execution_count": 218,
   "id": "ec1cfb89-bdc8-46e3-b388-8d97b48334a1",
   "metadata": {
    "tags": []
   },
   "outputs": [],
   "source": [
    "df = select(sql)"
   ]
  },
  {
   "cell_type": "code",
   "execution_count": 219,
   "id": "e69808d0-994e-4568-92ea-63610aaea3dd",
   "metadata": {
    "tags": []
   },
   "outputs": [
    {
     "data": {
      "text/plain": [
       "index_id\n",
       "5    22\n",
       "8    22\n",
       "4    20\n",
       "7    13\n",
       "1    12\n",
       "2    10\n",
       "0    10\n",
       "9     9\n",
       "3     8\n",
       "6     6\n",
       "Name: count, dtype: int64"
      ]
     },
     "execution_count": 219,
     "metadata": {},
     "output_type": "execute_result"
    }
   ],
   "source": [
    "df.index_id.value_counts()"
   ]
  },
  {
   "cell_type": "code",
   "execution_count": 220,
   "id": "a6e5a234-591f-4f78-a3d4-48455047dab2",
   "metadata": {
    "tags": []
   },
   "outputs": [
    {
     "data": {
      "text/plain": [
       "27"
      ]
     },
     "execution_count": 220,
     "metadata": {},
     "output_type": "execute_result"
    }
   ],
   "source": [
    "df.population.isna().sum()"
   ]
  },
  {
   "cell_type": "code",
   "execution_count": 221,
   "id": "dc016098-211e-4fdc-a7d1-7d35cfc08338",
   "metadata": {
    "tags": []
   },
   "outputs": [
    {
     "data": {
      "text/plain": [
       "27"
      ]
     },
     "execution_count": 221,
     "metadata": {},
     "output_type": "execute_result"
    }
   ],
   "source": [
    "df.area.isna().sum()"
   ]
  },
  {
   "cell_type": "code",
   "execution_count": 222,
   "id": "d45ec20d-7521-42f2-b48e-3aa0cace97dd",
   "metadata": {
    "tags": []
   },
   "outputs": [
    {
     "data": {
      "text/html": [
       "<div>\n",
       "<style scoped>\n",
       "    .dataframe tbody tr th:only-of-type {\n",
       "        vertical-align: middle;\n",
       "    }\n",
       "\n",
       "    .dataframe tbody tr th {\n",
       "        vertical-align: top;\n",
       "    }\n",
       "\n",
       "    .dataframe thead th {\n",
       "        text-align: right;\n",
       "    }\n",
       "</style>\n",
       "<table border=\"1\" class=\"dataframe\">\n",
       "  <thead>\n",
       "    <tr style=\"text-align: right;\">\n",
       "      <th></th>\n",
       "      <th>parcel_id</th>\n",
       "      <th>accept_date</th>\n",
       "      <th>mass</th>\n",
       "      <th>price</th>\n",
       "      <th>client_type</th>\n",
       "      <th>index_id</th>\n",
       "      <th>area</th>\n",
       "      <th>population</th>\n",
       "    </tr>\n",
       "  </thead>\n",
       "  <tbody>\n",
       "    <tr>\n",
       "      <th>0</th>\n",
       "      <td>0</td>\n",
       "      <td>2024-04-07 00:00:00</td>\n",
       "      <td>19934</td>\n",
       "      <td>34836</td>\n",
       "      <td>individual</td>\n",
       "      <td>7</td>\n",
       "      <td>None</td>\n",
       "      <td>NaN</td>\n",
       "    </tr>\n",
       "    <tr>\n",
       "      <th>1</th>\n",
       "      <td>1</td>\n",
       "      <td>2024-04-20 00:00:00</td>\n",
       "      <td>7235</td>\n",
       "      <td>3087</td>\n",
       "      <td>entity</td>\n",
       "      <td>7</td>\n",
       "      <td>None</td>\n",
       "      <td>NaN</td>\n",
       "    </tr>\n",
       "    <tr>\n",
       "      <th>2</th>\n",
       "      <td>2</td>\n",
       "      <td>2024-04-29 00:00:00</td>\n",
       "      <td>22954</td>\n",
       "      <td>42384</td>\n",
       "      <td>individual</td>\n",
       "      <td>7</td>\n",
       "      <td>None</td>\n",
       "      <td>NaN</td>\n",
       "    </tr>\n",
       "    <tr>\n",
       "      <th>3</th>\n",
       "      <td>3</td>\n",
       "      <td>2024-04-15 00:00:00</td>\n",
       "      <td>40461</td>\n",
       "      <td>86151</td>\n",
       "      <td>individual</td>\n",
       "      <td>5</td>\n",
       "      <td>Cairo</td>\n",
       "      <td>1377898.0</td>\n",
       "    </tr>\n",
       "    <tr>\n",
       "      <th>4</th>\n",
       "      <td>3</td>\n",
       "      <td>2024-04-15 00:00:00</td>\n",
       "      <td>40461</td>\n",
       "      <td>86151</td>\n",
       "      <td>individual</td>\n",
       "      <td>5</td>\n",
       "      <td>Rio de Janeiro</td>\n",
       "      <td>2670240.0</td>\n",
       "    </tr>\n",
       "    <tr>\n",
       "      <th>...</th>\n",
       "      <td>...</td>\n",
       "      <td>...</td>\n",
       "      <td>...</td>\n",
       "      <td>...</td>\n",
       "      <td>...</td>\n",
       "      <td>...</td>\n",
       "      <td>...</td>\n",
       "      <td>...</td>\n",
       "    </tr>\n",
       "    <tr>\n",
       "      <th>127</th>\n",
       "      <td>95</td>\n",
       "      <td>2024-04-29 00:00:00</td>\n",
       "      <td>19270</td>\n",
       "      <td>63176</td>\n",
       "      <td>entity</td>\n",
       "      <td>9</td>\n",
       "      <td>Beijing</td>\n",
       "      <td>6816851.0</td>\n",
       "    </tr>\n",
       "    <tr>\n",
       "      <th>128</th>\n",
       "      <td>96</td>\n",
       "      <td>2024-04-18 00:00:00</td>\n",
       "      <td>15922</td>\n",
       "      <td>24806</td>\n",
       "      <td>entity</td>\n",
       "      <td>0</td>\n",
       "      <td>New York City</td>\n",
       "      <td>53057.0</td>\n",
       "    </tr>\n",
       "    <tr>\n",
       "      <th>129</th>\n",
       "      <td>97</td>\n",
       "      <td>2024-04-26 00:00:00</td>\n",
       "      <td>15221</td>\n",
       "      <td>23053</td>\n",
       "      <td>entity</td>\n",
       "      <td>1</td>\n",
       "      <td>Tokyo</td>\n",
       "      <td>6592119.0</td>\n",
       "    </tr>\n",
       "    <tr>\n",
       "      <th>130</th>\n",
       "      <td>98</td>\n",
       "      <td>2024-04-12 00:00:00</td>\n",
       "      <td>10102</td>\n",
       "      <td>10256</td>\n",
       "      <td>entity</td>\n",
       "      <td>3</td>\n",
       "      <td>None</td>\n",
       "      <td>NaN</td>\n",
       "    </tr>\n",
       "    <tr>\n",
       "      <th>131</th>\n",
       "      <td>99</td>\n",
       "      <td>2024-04-02 00:00:00</td>\n",
       "      <td>5308</td>\n",
       "      <td>1729</td>\n",
       "      <td>individual</td>\n",
       "      <td>3</td>\n",
       "      <td>None</td>\n",
       "      <td>NaN</td>\n",
       "    </tr>\n",
       "  </tbody>\n",
       "</table>\n",
       "<p>132 rows × 8 columns</p>\n",
       "</div>"
      ],
      "text/plain": [
       "     parcel_id          accept_date   mass  price client_type  index_id  \\\n",
       "0            0  2024-04-07 00:00:00  19934  34836  individual         7   \n",
       "1            1  2024-04-20 00:00:00   7235   3087      entity         7   \n",
       "2            2  2024-04-29 00:00:00  22954  42384  individual         7   \n",
       "3            3  2024-04-15 00:00:00  40461  86151  individual         5   \n",
       "4            3  2024-04-15 00:00:00  40461  86151  individual         5   \n",
       "..         ...                  ...    ...    ...         ...       ...   \n",
       "127         95  2024-04-29 00:00:00  19270  63176      entity         9   \n",
       "128         96  2024-04-18 00:00:00  15922  24806      entity         0   \n",
       "129         97  2024-04-26 00:00:00  15221  23053      entity         1   \n",
       "130         98  2024-04-12 00:00:00  10102  10256      entity         3   \n",
       "131         99  2024-04-02 00:00:00   5308   1729  individual         3   \n",
       "\n",
       "               area  population  \n",
       "0              None         NaN  \n",
       "1              None         NaN  \n",
       "2              None         NaN  \n",
       "3             Cairo   1377898.0  \n",
       "4    Rio de Janeiro   2670240.0  \n",
       "..              ...         ...  \n",
       "127         Beijing   6816851.0  \n",
       "128   New York City     53057.0  \n",
       "129           Tokyo   6592119.0  \n",
       "130            None         NaN  \n",
       "131            None         NaN  \n",
       "\n",
       "[132 rows x 8 columns]"
      ]
     },
     "execution_count": 222,
     "metadata": {},
     "output_type": "execute_result"
    }
   ],
   "source": [
    "df"
   ]
  },
  {
   "cell_type": "code",
   "execution_count": 223,
   "id": "36104b62-3dbb-45b7-97d9-c71ca890ea90",
   "metadata": {
    "tags": []
   },
   "outputs": [
    {
     "data": {
      "text/plain": [
       "parcel_id      0\n",
       "accept_date    0\n",
       "index_id       0\n",
       "mass           0\n",
       "price          0\n",
       "client_type    0\n",
       "price_bin      0\n",
       "dtype: int64"
      ]
     },
     "execution_count": 223,
     "metadata": {},
     "output_type": "execute_result"
    }
   ],
   "source": [
    "parcel_aggr.isna().sum()"
   ]
  },
  {
   "cell_type": "code",
   "execution_count": 224,
   "id": "c8288ff3-171c-406f-b0a3-ac0e15941a03",
   "metadata": {
    "tags": []
   },
   "outputs": [
    {
     "data": {
      "text/plain": [
       "index_id      0\n",
       "area          0\n",
       "population    0\n",
       "dtype: int64"
      ]
     },
     "execution_count": 224,
     "metadata": {},
     "output_type": "execute_result"
    }
   ],
   "source": [
    "index_data.isna().sum()"
   ]
  },
  {
   "cell_type": "code",
   "execution_count": 225,
   "id": "d3d2b4e8-3846-4777-8b2b-2c3bc867d502",
   "metadata": {
    "tags": []
   },
   "outputs": [],
   "source": [
    "df.dropna(inplace=True)"
   ]
  },
  {
   "cell_type": "code",
   "execution_count": 122,
   "id": "d26bbc1b-a0cc-40cc-9dcf-a505f7bae49d",
   "metadata": {
    "tags": []
   },
   "outputs": [
    {
     "data": {
      "text/plain": [
       "105"
      ]
     },
     "execution_count": 122,
     "metadata": {},
     "output_type": "execute_result"
    }
   ],
   "source": [
    "df.to_sql('df',con,if_exists='replace',index=False)"
   ]
  },
  {
   "cell_type": "code",
   "execution_count": 123,
   "id": "326c7fc8-37ff-4bd3-a4c2-a18149fd0d45",
   "metadata": {
    "tags": []
   },
   "outputs": [],
   "source": [
    "sql = '''\n",
    "SELECT \n",
    "index_id as index_id,\n",
    "count(index_id) as amount,\n",
    "    CASE \n",
    "        WHEN population < 2500000 THEN '< 2500000' \n",
    "        WHEN population > 2500000 AND population <= 3500000 THEN 'between 2500000 and 3500000'\n",
    "        WHEN population > 3500000 THEN '> 3500000'  \n",
    "    END AS population_group\n",
    "FROM \n",
    "    df\n",
    "GROUP BY \n",
    "    index_id\n",
    "'''"
   ]
  },
  {
   "cell_type": "markdown",
   "id": "8d1b5d53-364e-4fec-aeec-54a00ac4becf",
   "metadata": {},
   "source": [
    "By using the CASE statement, we created subgroups and then grouped the data by branch indexes."
   ]
  },
  {
   "cell_type": "code",
   "execution_count": 124,
   "id": "f5160f3a-8970-4024-aa3f-07e35547c9f4",
   "metadata": {
    "tags": []
   },
   "outputs": [
    {
     "data": {
      "text/html": [
       "<div>\n",
       "<style scoped>\n",
       "    .dataframe tbody tr th:only-of-type {\n",
       "        vertical-align: middle;\n",
       "    }\n",
       "\n",
       "    .dataframe tbody tr th {\n",
       "        vertical-align: top;\n",
       "    }\n",
       "\n",
       "    .dataframe thead th {\n",
       "        text-align: right;\n",
       "    }\n",
       "</style>\n",
       "<table border=\"1\" class=\"dataframe\">\n",
       "  <thead>\n",
       "    <tr style=\"text-align: right;\">\n",
       "      <th></th>\n",
       "      <th>index_id</th>\n",
       "      <th>amount</th>\n",
       "      <th>population_group</th>\n",
       "    </tr>\n",
       "  </thead>\n",
       "  <tbody>\n",
       "    <tr>\n",
       "      <th>0</th>\n",
       "      <td>0</td>\n",
       "      <td>10</td>\n",
       "      <td>&lt; 2500000</td>\n",
       "    </tr>\n",
       "    <tr>\n",
       "      <th>1</th>\n",
       "      <td>1</td>\n",
       "      <td>12</td>\n",
       "      <td>&gt; 3500000</td>\n",
       "    </tr>\n",
       "    <tr>\n",
       "      <th>2</th>\n",
       "      <td>2</td>\n",
       "      <td>10</td>\n",
       "      <td>&gt; 3500000</td>\n",
       "    </tr>\n",
       "    <tr>\n",
       "      <th>3</th>\n",
       "      <td>4</td>\n",
       "      <td>20</td>\n",
       "      <td>between 2500000 and 3500000</td>\n",
       "    </tr>\n",
       "    <tr>\n",
       "      <th>4</th>\n",
       "      <td>5</td>\n",
       "      <td>22</td>\n",
       "      <td>&lt; 2500000</td>\n",
       "    </tr>\n",
       "    <tr>\n",
       "      <th>5</th>\n",
       "      <td>8</td>\n",
       "      <td>22</td>\n",
       "      <td>&lt; 2500000</td>\n",
       "    </tr>\n",
       "    <tr>\n",
       "      <th>6</th>\n",
       "      <td>9</td>\n",
       "      <td>9</td>\n",
       "      <td>&gt; 3500000</td>\n",
       "    </tr>\n",
       "  </tbody>\n",
       "</table>\n",
       "</div>"
      ],
      "text/plain": [
       "   index_id  amount             population_group\n",
       "0         0      10                    < 2500000\n",
       "1         1      12                    > 3500000\n",
       "2         2      10                    > 3500000\n",
       "3         4      20  between 2500000 and 3500000\n",
       "4         5      22                    < 2500000\n",
       "5         8      22                    < 2500000\n",
       "6         9       9                    > 3500000"
      ]
     },
     "execution_count": 124,
     "metadata": {},
     "output_type": "execute_result"
    }
   ],
   "source": [
    "select(sql)"
   ]
  },
  {
   "cell_type": "markdown",
   "id": "8d974ce7-1ec8-47ea-80ed-632b353f8041",
   "metadata": {
    "tags": []
   },
   "source": [
    "# Output the number of shipments broken down by sender type and population size groups of the locality where the shipment was accepted (less than 50 thousand (inclusive), from 50 to 100 thousand (inclusive), from 100 to 2 milion (inclusive), more than 2000000)."
   ]
  },
  {
   "cell_type": "code",
   "execution_count": 125,
   "id": "665e594e-1119-41dc-b44c-2bff8ddbb42b",
   "metadata": {
    "tags": []
   },
   "outputs": [
    {
     "data": {
      "text/plain": [
       "53057.0"
      ]
     },
     "execution_count": 125,
     "metadata": {},
     "output_type": "execute_result"
    }
   ],
   "source": [
    "df.population.min()"
   ]
  },
  {
   "cell_type": "code",
   "execution_count": 126,
   "id": "a700946c-b4e3-48a2-97f8-501907241bfa",
   "metadata": {
    "tags": []
   },
   "outputs": [
    {
     "data": {
      "text/plain": [
       "6816851.0"
      ]
     },
     "execution_count": 126,
     "metadata": {},
     "output_type": "execute_result"
    }
   ],
   "source": [
    "df.population.max()"
   ]
  },
  {
   "cell_type": "code",
   "execution_count": 157,
   "id": "debcbac7-135a-4db7-916d-7da8fce681e0",
   "metadata": {
    "tags": []
   },
   "outputs": [],
   "source": [
    "sql = '''\n",
    "select \n",
    "    index_id,\n",
    "    count(index_id) as amount_of_departure,\n",
    "    case \n",
    "    when population > 50000 and population <= 100000 then '> 50000 < 100000'\n",
    "    when population > 100000 and population <= 2000000 then '> 100000 < 2000000'\n",
    "    when population > 2000000 then '> 2000000'end as population_group\n",
    "from df\n",
    "group by index_id \n",
    "order by amount_of_departure desc\n",
    "    \n",
    "    \n",
    "    \n",
    "    '''"
   ]
  },
  {
   "cell_type": "code",
   "execution_count": 158,
   "id": "a4d7f975-b0df-457b-9e11-a869bf710b37",
   "metadata": {
    "tags": []
   },
   "outputs": [
    {
     "data": {
      "text/plain": [
       "53057.0"
      ]
     },
     "execution_count": 158,
     "metadata": {},
     "output_type": "execute_result"
    }
   ],
   "source": [
    "df.population.min()"
   ]
  },
  {
   "cell_type": "code",
   "execution_count": 159,
   "id": "4324e928-bf12-4fad-b796-0244bd29cf76",
   "metadata": {
    "tags": []
   },
   "outputs": [
    {
     "data": {
      "text/plain": [
       "6816851.0"
      ]
     },
     "execution_count": 159,
     "metadata": {},
     "output_type": "execute_result"
    }
   ],
   "source": [
    "df.population.max()"
   ]
  },
  {
   "cell_type": "code",
   "execution_count": 160,
   "id": "faf859cb-50a7-4d4d-8ba3-2dfd6d056477",
   "metadata": {
    "tags": []
   },
   "outputs": [
    {
     "data": {
      "text/html": [
       "<div>\n",
       "<style scoped>\n",
       "    .dataframe tbody tr th:only-of-type {\n",
       "        vertical-align: middle;\n",
       "    }\n",
       "\n",
       "    .dataframe tbody tr th {\n",
       "        vertical-align: top;\n",
       "    }\n",
       "\n",
       "    .dataframe thead th {\n",
       "        text-align: right;\n",
       "    }\n",
       "</style>\n",
       "<table border=\"1\" class=\"dataframe\">\n",
       "  <thead>\n",
       "    <tr style=\"text-align: right;\">\n",
       "      <th></th>\n",
       "      <th>index_id</th>\n",
       "      <th>amount_of_departure</th>\n",
       "      <th>population_group</th>\n",
       "    </tr>\n",
       "  </thead>\n",
       "  <tbody>\n",
       "    <tr>\n",
       "      <th>0</th>\n",
       "      <td>8</td>\n",
       "      <td>22</td>\n",
       "      <td>&gt; 2000000</td>\n",
       "    </tr>\n",
       "    <tr>\n",
       "      <th>1</th>\n",
       "      <td>5</td>\n",
       "      <td>22</td>\n",
       "      <td>&gt; 100000 &lt; 2000000</td>\n",
       "    </tr>\n",
       "    <tr>\n",
       "      <th>2</th>\n",
       "      <td>4</td>\n",
       "      <td>20</td>\n",
       "      <td>&gt; 2000000</td>\n",
       "    </tr>\n",
       "    <tr>\n",
       "      <th>3</th>\n",
       "      <td>1</td>\n",
       "      <td>12</td>\n",
       "      <td>&gt; 2000000</td>\n",
       "    </tr>\n",
       "    <tr>\n",
       "      <th>4</th>\n",
       "      <td>2</td>\n",
       "      <td>10</td>\n",
       "      <td>&gt; 2000000</td>\n",
       "    </tr>\n",
       "    <tr>\n",
       "      <th>5</th>\n",
       "      <td>0</td>\n",
       "      <td>10</td>\n",
       "      <td>&gt; 50000 &lt; 100000</td>\n",
       "    </tr>\n",
       "    <tr>\n",
       "      <th>6</th>\n",
       "      <td>9</td>\n",
       "      <td>9</td>\n",
       "      <td>&gt; 2000000</td>\n",
       "    </tr>\n",
       "  </tbody>\n",
       "</table>\n",
       "</div>"
      ],
      "text/plain": [
       "   index_id  amount_of_departure    population_group\n",
       "0         8                   22           > 2000000\n",
       "1         5                   22  > 100000 < 2000000\n",
       "2         4                   20           > 2000000\n",
       "3         1                   12           > 2000000\n",
       "4         2                   10           > 2000000\n",
       "5         0                   10    > 50000 < 100000\n",
       "6         9                    9           > 2000000"
      ]
     },
     "execution_count": 160,
     "metadata": {},
     "output_type": "execute_result"
    }
   ],
   "source": [
    "select(sql)"
   ]
  },
  {
   "cell_type": "markdown",
   "id": "a5bf8034-91e7-4988-95ba-ed362ee0b63d",
   "metadata": {},
   "source": [
    "# Output the shipment identifier; the region where the shipment was accepted; the population of the locality where the shipment was accepted, and the shipping cost of the shipment with the maximum mass in each branch. (price in Ukrainian hryvnias)"
   ]
  },
  {
   "cell_type": "code",
   "execution_count": 185,
   "id": "c7264d69-aa52-432a-883f-cc9e7f0b1ad3",
   "metadata": {
    "tags": []
   },
   "outputs": [],
   "source": [
    "sql = '''\n",
    "select \n",
    "    index_id,\n",
    "    parcel_id,\n",
    "    area,\n",
    "    sum(population) as total_population_region,\n",
    "    sum(price)      as sum_of_price,\n",
    "    max(mass)       as max_mass\n",
    "from df\n",
    "\n",
    "group by \n",
    "    index_id,\n",
    "    parcel_id,\n",
    "    area\n",
    "    \n",
    "order by \n",
    "    sum_of_price desc\n",
    "limit 10\n",
    "    \n",
    "    \n",
    "    '''"
   ]
  },
  {
   "cell_type": "code",
   "execution_count": 186,
   "id": "6bd2eee7-8622-4950-85fc-94ddcaae84b5",
   "metadata": {
    "tags": []
   },
   "outputs": [
    {
     "data": {
      "text/html": [
       "<div>\n",
       "<style scoped>\n",
       "    .dataframe tbody tr th:only-of-type {\n",
       "        vertical-align: middle;\n",
       "    }\n",
       "\n",
       "    .dataframe tbody tr th {\n",
       "        vertical-align: top;\n",
       "    }\n",
       "\n",
       "    .dataframe thead th {\n",
       "        text-align: right;\n",
       "    }\n",
       "</style>\n",
       "<table border=\"1\" class=\"dataframe\">\n",
       "  <thead>\n",
       "    <tr style=\"text-align: right;\">\n",
       "      <th></th>\n",
       "      <th>index_id</th>\n",
       "      <th>parcel_id</th>\n",
       "      <th>area</th>\n",
       "      <th>total_population_region</th>\n",
       "      <th>sum_of_price</th>\n",
       "      <th>max_mass</th>\n",
       "    </tr>\n",
       "  </thead>\n",
       "  <tbody>\n",
       "    <tr>\n",
       "      <th>0</th>\n",
       "      <td>5</td>\n",
       "      <td>74</td>\n",
       "      <td>Cairo</td>\n",
       "      <td>1377898.0</td>\n",
       "      <td>120987</td>\n",
       "      <td>42395</td>\n",
       "    </tr>\n",
       "    <tr>\n",
       "      <th>1</th>\n",
       "      <td>5</td>\n",
       "      <td>74</td>\n",
       "      <td>Rio de Janeiro</td>\n",
       "      <td>2670240.0</td>\n",
       "      <td>120987</td>\n",
       "      <td>42395</td>\n",
       "    </tr>\n",
       "    <tr>\n",
       "      <th>2</th>\n",
       "      <td>0</td>\n",
       "      <td>6</td>\n",
       "      <td>New York City</td>\n",
       "      <td>53057.0</td>\n",
       "      <td>88961</td>\n",
       "      <td>41584</td>\n",
       "    </tr>\n",
       "    <tr>\n",
       "      <th>3</th>\n",
       "      <td>8</td>\n",
       "      <td>73</td>\n",
       "      <td>London</td>\n",
       "      <td>2486857.0</td>\n",
       "      <td>88232</td>\n",
       "      <td>41293</td>\n",
       "    </tr>\n",
       "    <tr>\n",
       "      <th>4</th>\n",
       "      <td>8</td>\n",
       "      <td>73</td>\n",
       "      <td>Sydney</td>\n",
       "      <td>436613.0</td>\n",
       "      <td>88232</td>\n",
       "      <td>41293</td>\n",
       "    </tr>\n",
       "    <tr>\n",
       "      <th>5</th>\n",
       "      <td>1</td>\n",
       "      <td>71</td>\n",
       "      <td>Tokyo</td>\n",
       "      <td>6592119.0</td>\n",
       "      <td>86902</td>\n",
       "      <td>40761</td>\n",
       "    </tr>\n",
       "    <tr>\n",
       "      <th>6</th>\n",
       "      <td>5</td>\n",
       "      <td>3</td>\n",
       "      <td>Cairo</td>\n",
       "      <td>1377898.0</td>\n",
       "      <td>86151</td>\n",
       "      <td>40461</td>\n",
       "    </tr>\n",
       "    <tr>\n",
       "      <th>7</th>\n",
       "      <td>5</td>\n",
       "      <td>3</td>\n",
       "      <td>Rio de Janeiro</td>\n",
       "      <td>2670240.0</td>\n",
       "      <td>86151</td>\n",
       "      <td>40461</td>\n",
       "    </tr>\n",
       "    <tr>\n",
       "      <th>8</th>\n",
       "      <td>2</td>\n",
       "      <td>13</td>\n",
       "      <td>Kyiv</td>\n",
       "      <td>3569739.0</td>\n",
       "      <td>85664</td>\n",
       "      <td>28266</td>\n",
       "    </tr>\n",
       "    <tr>\n",
       "      <th>9</th>\n",
       "      <td>9</td>\n",
       "      <td>82</td>\n",
       "      <td>Beijing</td>\n",
       "      <td>6816851.0</td>\n",
       "      <td>83895</td>\n",
       "      <td>39558</td>\n",
       "    </tr>\n",
       "  </tbody>\n",
       "</table>\n",
       "</div>"
      ],
      "text/plain": [
       "   index_id  parcel_id            area  total_population_region  sum_of_price  \\\n",
       "0         5         74           Cairo                1377898.0        120987   \n",
       "1         5         74  Rio de Janeiro                2670240.0        120987   \n",
       "2         0          6   New York City                  53057.0         88961   \n",
       "3         8         73          London                2486857.0         88232   \n",
       "4         8         73          Sydney                 436613.0         88232   \n",
       "5         1         71           Tokyo                6592119.0         86902   \n",
       "6         5          3           Cairo                1377898.0         86151   \n",
       "7         5          3  Rio de Janeiro                2670240.0         86151   \n",
       "8         2         13            Kyiv                3569739.0         85664   \n",
       "9         9         82         Beijing                6816851.0         83895   \n",
       "\n",
       "   max_mass  \n",
       "0     42395  \n",
       "1     42395  \n",
       "2     41584  \n",
       "3     41293  \n",
       "4     41293  \n",
       "5     40761  \n",
       "6     40461  \n",
       "7     40461  \n",
       "8     28266  \n",
       "9     39558  "
      ]
     },
     "execution_count": 186,
     "metadata": {},
     "output_type": "execute_result"
    }
   ],
   "source": [
    "select(sql)"
   ]
  },
  {
   "cell_type": "markdown",
   "id": "3764669b-7492-453f-9584-8f9f25ca56dd",
   "metadata": {
    "tags": []
   },
   "source": [
    "# Output the identifiers of shipments with a mass strictly greater than the average mass in the database."
   ]
  },
  {
   "cell_type": "markdown",
   "id": "36857ecb-7e44-4125-b850-b7a559932595",
   "metadata": {
    "tags": []
   },
   "source": [
    "Here we are using subqueries.\n",
    "\n",
    "\n",
    "\n",
    "\n",
    "\n"
   ]
  },
  {
   "cell_type": "code",
   "execution_count": 200,
   "id": "401156ed-8ed0-46a1-9df8-51cdb3d6bded",
   "metadata": {
    "tags": []
   },
   "outputs": [],
   "source": [
    "sql = '''\n",
    "select \n",
    "    parcel_id,\n",
    "    area,\n",
    "    mass,\n",
    "    (select avg(mass) from df ) as avg_mass\n",
    "from df\n",
    "where mass > (select avg(mass) from df )\n",
    "order by mass desc\n",
    "limit 10\n",
    "    \n",
    "    \n",
    "    '''"
   ]
  },
  {
   "cell_type": "code",
   "execution_count": 201,
   "id": "0601b8db-a53c-4f2e-b151-13021990abe4",
   "metadata": {
    "tags": []
   },
   "outputs": [
    {
     "data": {
      "text/html": [
       "<div>\n",
       "<style scoped>\n",
       "    .dataframe tbody tr th:only-of-type {\n",
       "        vertical-align: middle;\n",
       "    }\n",
       "\n",
       "    .dataframe tbody tr th {\n",
       "        vertical-align: top;\n",
       "    }\n",
       "\n",
       "    .dataframe thead th {\n",
       "        text-align: right;\n",
       "    }\n",
       "</style>\n",
       "<table border=\"1\" class=\"dataframe\">\n",
       "  <thead>\n",
       "    <tr style=\"text-align: right;\">\n",
       "      <th></th>\n",
       "      <th>parcel_id</th>\n",
       "      <th>area</th>\n",
       "      <th>mass</th>\n",
       "      <th>avg_mass</th>\n",
       "    </tr>\n",
       "  </thead>\n",
       "  <tbody>\n",
       "    <tr>\n",
       "      <th>0</th>\n",
       "      <td>74</td>\n",
       "      <td>Cairo</td>\n",
       "      <td>42395</td>\n",
       "      <td>16101.133333</td>\n",
       "    </tr>\n",
       "    <tr>\n",
       "      <th>1</th>\n",
       "      <td>74</td>\n",
       "      <td>Rio de Janeiro</td>\n",
       "      <td>42395</td>\n",
       "      <td>16101.133333</td>\n",
       "    </tr>\n",
       "    <tr>\n",
       "      <th>2</th>\n",
       "      <td>6</td>\n",
       "      <td>New York City</td>\n",
       "      <td>41584</td>\n",
       "      <td>16101.133333</td>\n",
       "    </tr>\n",
       "    <tr>\n",
       "      <th>3</th>\n",
       "      <td>73</td>\n",
       "      <td>London</td>\n",
       "      <td>41293</td>\n",
       "      <td>16101.133333</td>\n",
       "    </tr>\n",
       "    <tr>\n",
       "      <th>4</th>\n",
       "      <td>73</td>\n",
       "      <td>Sydney</td>\n",
       "      <td>41293</td>\n",
       "      <td>16101.133333</td>\n",
       "    </tr>\n",
       "    <tr>\n",
       "      <th>5</th>\n",
       "      <td>71</td>\n",
       "      <td>Tokyo</td>\n",
       "      <td>40761</td>\n",
       "      <td>16101.133333</td>\n",
       "    </tr>\n",
       "    <tr>\n",
       "      <th>6</th>\n",
       "      <td>3</td>\n",
       "      <td>Cairo</td>\n",
       "      <td>40461</td>\n",
       "      <td>16101.133333</td>\n",
       "    </tr>\n",
       "    <tr>\n",
       "      <th>7</th>\n",
       "      <td>3</td>\n",
       "      <td>Rio de Janeiro</td>\n",
       "      <td>40461</td>\n",
       "      <td>16101.133333</td>\n",
       "    </tr>\n",
       "    <tr>\n",
       "      <th>8</th>\n",
       "      <td>82</td>\n",
       "      <td>Beijing</td>\n",
       "      <td>39558</td>\n",
       "      <td>16101.133333</td>\n",
       "    </tr>\n",
       "    <tr>\n",
       "      <th>9</th>\n",
       "      <td>20</td>\n",
       "      <td>Paris</td>\n",
       "      <td>39313</td>\n",
       "      <td>16101.133333</td>\n",
       "    </tr>\n",
       "  </tbody>\n",
       "</table>\n",
       "</div>"
      ],
      "text/plain": [
       "   parcel_id            area   mass      avg_mass\n",
       "0         74           Cairo  42395  16101.133333\n",
       "1         74  Rio de Janeiro  42395  16101.133333\n",
       "2          6   New York City  41584  16101.133333\n",
       "3         73          London  41293  16101.133333\n",
       "4         73          Sydney  41293  16101.133333\n",
       "5         71           Tokyo  40761  16101.133333\n",
       "6          3           Cairo  40461  16101.133333\n",
       "7          3  Rio de Janeiro  40461  16101.133333\n",
       "8         82         Beijing  39558  16101.133333\n",
       "9         20           Paris  39313  16101.133333"
      ]
     },
     "execution_count": 201,
     "metadata": {},
     "output_type": "execute_result"
    }
   ],
   "source": [
    "select(sql)"
   ]
  },
  {
   "cell_type": "markdown",
   "id": "7d05db5d-77fa-4065-ba70-f4f1815a43d1",
   "metadata": {},
   "source": [
    "# Before leaving, your supervisor asked you to \"display the distribution of the number of shipments by shipping cost"
   ]
  },
  {
   "cell_type": "code",
   "execution_count": 204,
   "id": "4e949d59-5633-4dc1-a33a-83809ece7f7a",
   "metadata": {
    "tags": []
   },
   "outputs": [
    {
     "data": {
      "text/plain": [
       "<Axes: xlabel='price', ylabel='Count'>"
      ]
     },
     "execution_count": 204,
     "metadata": {},
     "output_type": "execute_result"
    },
    {
     "data": {
      "image/png": "[encoded data removed]",
      "text/plain": [
       "<Figure size 640x480 with 1 Axes>"
      ]
     },
     "metadata": {},
     "output_type": "display_data"
    }
   ],
   "source": [
    "sns.histplot(parcel_aggr['price'],bins = 20)"
   ]
  },
  {
   "cell_type": "code",
   "execution_count": 205,
   "id": "f70f91e5-b7d7-44e7-951c-cf531e7f341c",
   "metadata": {
    "tags": []
   },
   "outputs": [],
   "source": [
    "parcel_aggr['price_bin'] = pd.cut(parcel_aggr['price'],10)"
   ]
  },
  {
   "cell_type": "markdown",
   "id": "f1c27d67-cf38-40e4-9fd2-d5a95efbc99c",
   "metadata": {},
   "source": [
    "Let's divide the prices into groups and calculate their frequencies."
   ]
  },
  {
   "cell_type": "code",
   "execution_count": 206,
   "id": "a324b050-0448-4095-89fb-288cb9388036",
   "metadata": {
    "tags": []
   },
   "outputs": [
    {
     "data": {
      "text/plain": [
       "price_bin\n",
       "(596.73, 12744.0]       19\n",
       "(12744.0, 24771.0]      24\n",
       "(24771.0, 36798.0]      17\n",
       "(36798.0, 48825.0]       9\n",
       "(48825.0, 60852.0]      12\n",
       "(60852.0, 72879.0]       5\n",
       "(72879.0, 84906.0]       5\n",
       "(84906.0, 96933.0]       7\n",
       "(96933.0, 108960.0]      1\n",
       "(108960.0, 120987.0]     1\n",
       "Name: parcel_id, dtype: int64"
      ]
     },
     "execution_count": 206,
     "metadata": {},
     "output_type": "execute_result"
    }
   ],
   "source": [
    "parcel_aggr.groupby('price_bin')['parcel_id'].count()"
   ]
  },
  {
   "cell_type": "markdown",
   "id": "f4d3adf1-e8ff-4b21-b563-33bc6a5cca97",
   "metadata": {},
   "source": [
    "Descriptive statistics\n",
    "\n",
    "\n",
    "\n",
    "\n",
    "\n",
    "\n"
   ]
  },
  {
   "cell_type": "code",
   "execution_count": 207,
   "id": "6ef6549b-872f-4744-a81b-6a60f31724dc",
   "metadata": {
    "tags": []
   },
   "outputs": [
    {
     "data": {
      "text/plain": [
       "count       100.000000\n",
       "mean      35979.190000\n",
       "std       27887.128108\n",
       "min         717.000000\n",
       "25%       14253.750000\n",
       "50%       26872.000000\n",
       "75%       55929.750000\n",
       "max      120987.000000\n",
       "Name: price, dtype: float64"
      ]
     },
     "execution_count": 207,
     "metadata": {},
     "output_type": "execute_result"
    }
   ],
   "source": [
    "parcel_aggr['price'].describe()"
   ]
  },
  {
   "cell_type": "markdown",
   "id": "bdd6bf17-7a74-4f26-a44c-1c5c0a6337ab",
   "metadata": {},
   "source": [
    "\"Case when\" in SQL typically refers to the CASE function or the CASE operator. It's a construct that allows for conditional operations in SQL queries.\n",
    "\n",
    "\n",
    "\n",
    "\n",
    "\n",
    "\n"
   ]
  },
  {
   "cell_type": "markdown",
   "id": "3ab60ae6-251a-48da-8d4c-5ef416c8064e",
   "metadata": {},
   "source": [
    "As a final step, let's output a box plot to visualize our variable.\n",
    "\n",
    "\n",
    "\n",
    "\n",
    "\n"
   ]
  },
  {
   "cell_type": "code",
   "execution_count": 211,
   "id": "8a05b1cd-0fe8-4eac-8413-8c0e860fc4e3",
   "metadata": {
    "tags": []
   },
   "outputs": [
    {
     "data": {
      "text/plain": [
       "<Axes: xlabel='index_id', ylabel='price'>"
      ]
     },
     "execution_count": 211,
     "metadata": {},
     "output_type": "execute_result"
    },
    {
     "data": {
      "image/png": "[encoded data removed]",
      "text/plain": [
       "<Figure size 640x480 with 1 Axes>"
      ]
     },
     "metadata": {},
     "output_type": "display_data"
    }
   ],
   "source": [
    "sns.boxplot(data=parcel_aggr, x='index_id', y='price')"
   ]
  },
  {
   "cell_type": "code",
   "execution_count": null,
   "id": "2fbd4627-2d83-4e27-a483-8daa247467e0",
   "metadata": {},
   "outputs": [],
   "source": []
  }
 ],
 "metadata": {
  "kernelspec": {
   "display_name": "Python 3 (ipykernel)",
   "language": "python",
   "name": "python3"
  },
  "language_info": {
   "codemirror_mode": {
    "name": "ipython",
    "version": 3
   },
   "file_extension": ".py",
   "mimetype": "text/x-python",
   "name": "python",
   "nbconvert_exporter": "python",
   "pygments_lexer": "ipython3",
   "version": "3.11.5"
  }
 },
 "nbformat": 4,
 "nbformat_minor": 5
}
